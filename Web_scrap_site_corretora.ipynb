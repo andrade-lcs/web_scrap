{
  "nbformat": 4,
  "nbformat_minor": 0,
  "metadata": {
    "colab": {
      "name": "Web_scrap_site_corretora.ipynb",
      "provenance": [],
      "collapsed_sections": [],
      "authorship_tag": "ABX9TyNhPR7gLL5gHxPiOdFhCBby"
    },
    "kernelspec": {
      "name": "python3",
      "display_name": "Python 3"
    }
  },
  "cells": [
    {
      "cell_type": "code",
      "metadata": {
        "id": "5kC7tWRlBG-S"
      },
      "source": [
        "from bs4 import BeautifulSoup\r\n",
        "from urllib.request import urlopen"
      ],
      "execution_count": 1,
      "outputs": []
    },
    {
      "cell_type": "code",
      "metadata": {
        "id": "6cmxCa5eB5rE"
      },
      "source": [
        "url_sobre = 'https://ocean-web-scraping.herokuapp.com/sobre.html'\r\n",
        "url_busca = 'https://ocean-web-scraping.herokuapp.com/'\r\n",
        "url_corretoras = 'https://ocean-web-scraping.herokuapp.com/corretoras.html'"
      ],
      "execution_count": 2,
      "outputs": []
    },
    {
      "cell_type": "markdown",
      "metadata": {
        "id": "JiQTSjSMGjI_"
      },
      "source": [
        "Obtendo os urls"
      ]
    },
    {
      "cell_type": "code",
      "metadata": {
        "colab": {
          "base_uri": "https://localhost:8080/"
        },
        "id": "-E1oEqxQB8Ip",
        "outputId": "a0f2dd8c-270f-4d5e-ab3d-6d02dda7dc74"
      },
      "source": [
        "response_sobre = urlopen(url_sobre)\r\n",
        "html_sobre = response_sobre.read()\r\n",
        "soup_sobre = BeautifulSoup(html_sobre, 'html.parser')\r\n",
        "print(soup_sobre.prettify())"
      ],
      "execution_count": 3,
      "outputs": [
        {
          "output_type": "stream",
          "text": [
            "<!DOCTYPE html>\n",
            "<html lang=\"pt-br\">\n",
            " <head>\n",
            "  <meta charset=\"utf-8\"/>\n",
            "  <meta content=\"width=device-width\" name=\"viewport\"/>\n",
            "  <title>\n",
            "   Oceano de Aluguéis\n",
            "  </title>\n",
            "  <link href=\"reset.css\" rel=\"stylesheet\"/>\n",
            "  <link href=\"style.css\" rel=\"stylesheet\"/>\n",
            "  <link href=\"https://fonts.googleapis.com/css?family=Montserrat&amp;display=swap\" rel=\"stylesheet\"/>\n",
            " </head>\n",
            " <body>\n",
            "  <header>\n",
            "   <div>\n",
            "    <img src=\"imagens/oceano-logo.png\"/>\n",
            "    <h1>\n",
            "     Oceano de Aluguéis\n",
            "    </h1>\n",
            "    <nav>\n",
            "     <ul>\n",
            "      <li>\n",
            "       <a href=\"results&amp;page=1.html\">\n",
            "        Resultados\n",
            "       </a>\n",
            "      </li>\n",
            "      <li>\n",
            "       <a href=\"corretoras.html\">\n",
            "        Corretoras\n",
            "       </a>\n",
            "      </li>\n",
            "      <li>\n",
            "       <a href=\"sobre.html\">\n",
            "        Sobre\n",
            "       </a>\n",
            "      </li>\n",
            "     </ul>\n",
            "    </nav>\n",
            "   </div>\n",
            "  </header>\n",
            "  <main>\n",
            "   <div class=\"about\">\n",
            "    <h2>\n",
            "     Sobre este site\n",
            "    </h2>\n",
            "    <p>\n",
            "     Este site foi criado para treinamentos de Web Scraping do\n",
            "     <a href=\"http://www.oceanbrasil.com/\">\n",
            "      Ocean\n",
            "     </a>\n",
            "     .\n",
            "    </p>\n",
            "    <p>\n",
            "     Vamos para os primeiros desafios?\n",
            "    </p>\n",
            "    <ol>\n",
            "     <li>\n",
            "      Que tal coletar o texto\n",
            "      <em>\n",
            "       \"Sobre este site\"\n",
            "      </em>\n",
            "      para começar?\n",
            "     </li>\n",
            "     <li>\n",
            "      Agora extraia o link contido na palavra\n",
            "      <em>\n",
            "       \"Ocean\"\n",
            "      </em>\n",
            "      .\n",
            "     </li>\n",
            "     <li>\n",
            "      Em seguida, colete todos os itens desta lista.\n",
            "     </li>\n",
            "     <li>\n",
            "      Por fim, colete apenas este último item da lista.\n",
            "     </li>\n",
            "    </ol>\n",
            "   </div>\n",
            "  </main>\n",
            "  <footer>\n",
            "   <img src=\"imagens/oceano-logo-cinza.png\"/>\n",
            "   <p>\n",
            "    Site criado para o curso de Web Scraping do Ocean\n",
            "   </p>\n",
            "  </footer>\n",
            " </body>\n",
            "</html>\n"
          ],
          "name": "stdout"
        }
      ]
    },
    {
      "cell_type": "code",
      "metadata": {
        "colab": {
          "base_uri": "https://localhost:8080/"
        },
        "id": "8NNWEipwCX18",
        "outputId": "e34ba102-96cc-4b35-f279-38c37f16f0eb"
      },
      "source": [
        "response_busca = urlopen(url_busca)\r\n",
        "html_busca = response_busca.read()\r\n",
        "soup_busca = BeautifulSoup(html_busca, 'html.parser')\r\n",
        "print(soup_busca.prettify())"
      ],
      "execution_count": 4,
      "outputs": [
        {
          "output_type": "stream",
          "text": [
            "<!DOCTYPE html>\n",
            "<html lang=\"pt-br\">\n",
            " <head>\n",
            "  <meta charset=\"utf-8\"/>\n",
            "  <meta content=\"width=device-width\" name=\"viewport\"/>\n",
            "  <title>\n",
            "   Oceano de Aluguéis\n",
            "  </title>\n",
            "  <link href=\"reset.css\" rel=\"stylesheet\"/>\n",
            "  <link href=\"style.css\" rel=\"stylesheet\"/>\n",
            "  <link href=\"https://fonts.googleapis.com/css?family=Montserrat&amp;display=swap\" rel=\"stylesheet\"/>\n",
            " </head>\n",
            " <body>\n",
            "  <header>\n",
            "   <div>\n",
            "    <img src=\"imagens/oceano-logo.png\"/>\n",
            "    <h1>\n",
            "     Oceano de Aluguéis\n",
            "    </h1>\n",
            "    <nav>\n",
            "     <ul>\n",
            "      <li>\n",
            "       <a href=\"results&amp;page=1.html\">\n",
            "        Resultados\n",
            "       </a>\n",
            "      </li>\n",
            "      <li>\n",
            "       <a href=\"corretoras.html\">\n",
            "        Corretoras\n",
            "       </a>\n",
            "      </li>\n",
            "      <li>\n",
            "       <a href=\"sobre.html\">\n",
            "        Sobre\n",
            "       </a>\n",
            "      </li>\n",
            "     </ul>\n",
            "    </nav>\n",
            "   </div>\n",
            "  </header>\n",
            "  <main>\n",
            "   <div class=\"ad-card-list\">\n",
            "    <p>\n",
            "     21 resultados obtidos - Página 1\n",
            "    </p>\n",
            "    <div class=\"ad-card\">\n",
            "     <img class=\"apto-img\" src=\"imagens/apto-01.jpg\"/>\n",
            "     <div class=\"ad-card-info\">\n",
            "      <h2>\n",
            "       Lindo apartamento para alugar\n",
            "      </h2>\n",
            "      <ul class=\"features\">\n",
            "       <li>\n",
            "        <img src=\"imagens/area.png\"/>\n",
            "        100 m²\n",
            "       </li>\n",
            "       <li>\n",
            "        <img src=\"imagens/bedrooms.png\"/>\n",
            "        3 quarto(s)\n",
            "       </li>\n",
            "       <li>\n",
            "        <img src=\"imagens/toilet.png\"/>\n",
            "        2 banheiro(s)\n",
            "       </li>\n",
            "       <li>\n",
            "        <img src=\"imagens/parking.png\"/>\n",
            "        2 vaga(s)\n",
            "       </li>\n",
            "      </ul>\n",
            "      <ul class=\"resources\">\n",
            "       <li>\n",
            "        Mobiliado\n",
            "       </li>\n",
            "       <li>\n",
            "        Portaria 24h\n",
            "       </li>\n",
            "       <li>\n",
            "        Elevador\n",
            "       </li>\n",
            "       <li>\n",
            "        Piscina\n",
            "       </li>\n",
            "       <li>\n",
            "        Churrasqueira\n",
            "       </li>\n",
            "       <li>\n",
            "        Salão de Festas\n",
            "       </li>\n",
            "       <li>\n",
            "        Academia\n",
            "       </li>\n",
            "       <li>\n",
            "        Playground\n",
            "       </li>\n",
            "       <li>\n",
            "        Quadra poliesportiva\n",
            "       </li>\n",
            "       <li>\n",
            "        Salão de jogos\n",
            "       </li>\n",
            "       <li>\n",
            "        Aceita animais\n",
            "       </li>\n",
            "      </ul>\n",
            "      <p>\n",
            "       Localização: Oceano Pacífico\n",
            "      </p>\n",
            "     </div>\n",
            "     <div class=\"ad-card-price\">\n",
            "      <p>\n",
            "       Aluguel: R$ 4.000,00\n",
            "      </p>\n",
            "      <p>\n",
            "       Condomínio: 500,00\n",
            "      </p>\n",
            "      <p>\n",
            "       IPTU: R$ 100,00\n",
            "      </p>\n",
            "      <p>\n",
            "       Corretora: Tubarão\n",
            "      </p>\n",
            "     </div>\n",
            "    </div>\n",
            "    <div class=\"ad-card\">\n",
            "     <img class=\"apto-img\" src=\"imagens/apto-02.jpg\"/>\n",
            "     <div class=\"ad-card-info\">\n",
            "      <h2>\n",
            "       Ótimo lugar para morar\n",
            "      </h2>\n",
            "      <ul class=\"features\">\n",
            "       <li>\n",
            "        <img src=\"imagens/area.png\"/>\n",
            "        60 m²\n",
            "       </li>\n",
            "       <li>\n",
            "        <img src=\"imagens/bedrooms.png\"/>\n",
            "        2 quarto(s)\n",
            "       </li>\n",
            "       <li>\n",
            "        <img src=\"imagens/toilet.png\"/>\n",
            "        2 banheiro(s)\n",
            "       </li>\n",
            "       <li>\n",
            "        <img src=\"imagens/parking.png\"/>\n",
            "        1 vaga(s)\n",
            "       </li>\n",
            "      </ul>\n",
            "      <ul class=\"resources\">\n",
            "       <li>\n",
            "        Mobiliado\n",
            "       </li>\n",
            "       <li>\n",
            "        Portaria 24h\n",
            "       </li>\n",
            "       <li>\n",
            "        Salão de Festas\n",
            "       </li>\n",
            "       <li>\n",
            "        Quadra poliesportiva\n",
            "       </li>\n",
            "      </ul>\n",
            "      <p>\n",
            "       Localização: Oceano Índico\n",
            "      </p>\n",
            "     </div>\n",
            "     <div class=\"ad-card-price\">\n",
            "      <p>\n",
            "       Aluguel: R$ 2.000,00\n",
            "      </p>\n",
            "      <p>\n",
            "       Condomínio: 200,00\n",
            "      </p>\n",
            "      <p>\n",
            "       IPTU: R$ 50,00\n",
            "      </p>\n",
            "      <p>\n",
            "       Corretora: Carangueijo\n",
            "      </p>\n",
            "     </div>\n",
            "    </div>\n",
            "    <div class=\"ad-card\">\n",
            "     <img class=\"apto-img\" src=\"imagens/apto-03.jpg\"/>\n",
            "     <div class=\"ad-card-info\">\n",
            "      <h2>\n",
            "       Belíssimo apartamento mobiliado\n",
            "      </h2>\n",
            "      <ul class=\"features\">\n",
            "       <li>\n",
            "        <img src=\"imagens/area.png\"/>\n",
            "        50 m²\n",
            "       </li>\n",
            "       <li>\n",
            "        <img src=\"imagens/bedrooms.png\"/>\n",
            "        1 quarto(s)\n",
            "       </li>\n",
            "       <li>\n",
            "        <img src=\"imagens/toilet.png\"/>\n",
            "        1 banheiro(s)\n",
            "       </li>\n",
            "       <li>\n",
            "        <img src=\"imagens/parking.png\"/>\n",
            "        1 vaga(s)\n",
            "       </li>\n",
            "      </ul>\n",
            "      <ul class=\"resources\">\n",
            "       <li>\n",
            "        Mobiliado\n",
            "       </li>\n",
            "      </ul>\n",
            "      <p>\n",
            "       Localização: Mar de Java\n",
            "      </p>\n",
            "     </div>\n",
            "     <div class=\"ad-card-price\">\n",
            "      <p>\n",
            "       Aluguel: R$ 1.300,00\n",
            "      </p>\n",
            "      <p>\n",
            "       Condomínio: 200,00\n",
            "      </p>\n",
            "      <p>\n",
            "       IPTU: R$ 50,00\n",
            "      </p>\n",
            "      <p>\n",
            "       Corretora: Baleia Azul\n",
            "      </p>\n",
            "     </div>\n",
            "    </div>\n",
            "    <div class=\"ad-card\">\n",
            "     <img class=\"apto-img\" src=\"imagens/apto-04.jpg\"/>\n",
            "     <div class=\"ad-card-info\">\n",
            "      <h2>\n",
            "       Um cantinho todo seu\n",
            "      </h2>\n",
            "      <ul class=\"features\">\n",
            "       <li>\n",
            "        <img src=\"imagens/area.png\"/>\n",
            "        60 m²\n",
            "       </li>\n",
            "       <li>\n",
            "        <img src=\"imagens/bedrooms.png\"/>\n",
            "        2 quarto(s)\n",
            "       </li>\n",
            "       <li>\n",
            "        <img src=\"imagens/toilet.png\"/>\n",
            "        2 banheiro(s)\n",
            "       </li>\n",
            "       <li>\n",
            "        <img src=\"imagens/parking.png\"/>\n",
            "        1 vaga(s)\n",
            "       </li>\n",
            "      </ul>\n",
            "      <ul class=\"resources\">\n",
            "       <li>\n",
            "        Mobiliado\n",
            "       </li>\n",
            "       <li>\n",
            "        Portaria 24h\n",
            "       </li>\n",
            "      </ul>\n",
            "      <p>\n",
            "       Localização: Oceano Índico\n",
            "      </p>\n",
            "     </div>\n",
            "     <div class=\"ad-card-price\">\n",
            "      <p>\n",
            "       Aluguel: R$ 1.800,00\n",
            "      </p>\n",
            "      <p>\n",
            "       Condomínio: 100,00\n",
            "      </p>\n",
            "      <p>\n",
            "       IPTU: R$ 20,00\n",
            "      </p>\n",
            "      <p>\n",
            "       Corretora: Baleia Azul\n",
            "      </p>\n",
            "     </div>\n",
            "    </div>\n",
            "    <div class=\"ad-card\">\n",
            "     <img class=\"apto-img\" src=\"imagens/apto-05.jpg\"/>\n",
            "     <div class=\"ad-card-info\">\n",
            "      <h2>\n",
            "       Alugue já! Ótima oportunidade\n",
            "      </h2>\n",
            "      <ul class=\"features\">\n",
            "       <li>\n",
            "        <img src=\"imagens/area.png\"/>\n",
            "        120 m²\n",
            "       </li>\n",
            "       <li>\n",
            "        <img src=\"imagens/bedrooms.png\"/>\n",
            "        4 quarto(s)\n",
            "       </li>\n",
            "       <li>\n",
            "        <img src=\"imagens/toilet.png\"/>\n",
            "        3 banheiro(s)\n",
            "       </li>\n",
            "       <li>\n",
            "        <img src=\"imagens/parking.png\"/>\n",
            "        2 vaga(s)\n",
            "       </li>\n",
            "      </ul>\n",
            "      <ul class=\"resources\">\n",
            "       <li>\n",
            "        Mobiliado\n",
            "       </li>\n",
            "       <li>\n",
            "        Portaria 24h\n",
            "       </li>\n",
            "       <li>\n",
            "        Elevador\n",
            "       </li>\n",
            "       <li>\n",
            "        Piscina\n",
            "       </li>\n",
            "       <li>\n",
            "        Churrasqueira\n",
            "       </li>\n",
            "       <li>\n",
            "        Salão de Festas\n",
            "       </li>\n",
            "       <li>\n",
            "        Academia\n",
            "       </li>\n",
            "       <li>\n",
            "        Playground\n",
            "       </li>\n",
            "       <li>\n",
            "        Quadra poliesportiva\n",
            "       </li>\n",
            "       <li>\n",
            "        Salão de jogos\n",
            "       </li>\n",
            "       <li>\n",
            "        Aceita animais\n",
            "       </li>\n",
            "      </ul>\n",
            "      <p>\n",
            "       Localização: Oceano Pacífico\n",
            "      </p>\n",
            "     </div>\n",
            "     <div class=\"ad-card-price\">\n",
            "      <p>\n",
            "       Aluguel: R$ 3.800,00\n",
            "      </p>\n",
            "      <p>\n",
            "       Condomínio: 500,00\n",
            "      </p>\n",
            "      <p>\n",
            "       IPTU: R$ 200,00\n",
            "      </p>\n",
            "      <p>\n",
            "       Corretora: Tubarão\n",
            "      </p>\n",
            "     </div>\n",
            "    </div>\n",
            "   </div>\n",
            "   <div class=\"pagination\">\n",
            "    <a class=\"inactive\" href=\"#\">\n",
            "     «\n",
            "    </a>\n",
            "    <a class=\"active\" href=\"#\">\n",
            "     1\n",
            "    </a>\n",
            "    <a href=\"results&amp;page=2.html\">\n",
            "     2\n",
            "    </a>\n",
            "    <a href=\"results&amp;page=3.html\">\n",
            "     3\n",
            "    </a>\n",
            "    <a href=\"results&amp;page=2.html\">\n",
            "     »\n",
            "    </a>\n",
            "   </div>\n",
            "  </main>\n",
            "  <footer>\n",
            "   <img src=\"imagens/oceano-logo-cinza.png\"/>\n",
            "   <p>\n",
            "    Site criado para o curso de Web Scraping do Ocean\n",
            "   </p>\n",
            "  </footer>\n",
            " </body>\n",
            "</html>\n"
          ],
          "name": "stdout"
        }
      ]
    },
    {
      "cell_type": "code",
      "metadata": {
        "colab": {
          "base_uri": "https://localhost:8080/"
        },
        "id": "Iq-vjtoJC-Si",
        "outputId": "2154fd4f-342f-4283-c7f6-bb73e3ec2aba"
      },
      "source": [
        "response_corretoras = urlopen(url_corretoras)\r\n",
        "html_corretoras = response_corretoras.read()\r\n",
        "soup_corretoras = BeautifulSoup(html_corretoras, 'html.parser')\r\n",
        "print(soup_corretoras.prettify())"
      ],
      "execution_count": 5,
      "outputs": [
        {
          "output_type": "stream",
          "text": [
            "<!DOCTYPE html>\n",
            "<html lang=\"pt-br\">\n",
            " <head>\n",
            "  <meta charset=\"utf-8\"/>\n",
            "  <meta content=\"width=device-width\" name=\"viewport\"/>\n",
            "  <title>\n",
            "   Oceano de Aluguéis\n",
            "  </title>\n",
            "  <link href=\"reset.css\" rel=\"stylesheet\"/>\n",
            "  <link href=\"style.css\" rel=\"stylesheet\"/>\n",
            "  <link href=\"https://fonts.googleapis.com/css?family=Montserrat&amp;display=swap\" rel=\"stylesheet\"/>\n",
            " </head>\n",
            " <body>\n",
            "  <header>\n",
            "   <div>\n",
            "    <img src=\"imagens/oceano-logo.png\"/>\n",
            "    <h1>\n",
            "     Oceano de Aluguéis\n",
            "    </h1>\n",
            "    <nav>\n",
            "     <ul>\n",
            "      <li>\n",
            "       <a href=\"results&amp;page=1.html\">\n",
            "        Resultados\n",
            "       </a>\n",
            "      </li>\n",
            "      <li>\n",
            "       <a href=\"corretoras.html\">\n",
            "        Corretoras\n",
            "       </a>\n",
            "      </li>\n",
            "      <li>\n",
            "       <a href=\"sobre.html\">\n",
            "        Sobre\n",
            "       </a>\n",
            "      </li>\n",
            "     </ul>\n",
            "    </nav>\n",
            "   </div>\n",
            "  </header>\n",
            "  <main>\n",
            "   <div class=\"contacts\">\n",
            "    <table>\n",
            "     <thead>\n",
            "      <tr>\n",
            "       <th>\n",
            "        Corretora\n",
            "       </th>\n",
            "       <th>\n",
            "        Contatos\n",
            "       </th>\n",
            "      </tr>\n",
            "     </thead>\n",
            "     <tbody>\n",
            "      <tr>\n",
            "       <td>\n",
            "        Tubarão\n",
            "       </td>\n",
            "       <td>\n",
            "        João Marinho - Fone:(XX)XXXX-XXXX\n",
            "       </td>\n",
            "      </tr>\n",
            "      <tr>\n",
            "       <td>\n",
            "        Carangueijo\n",
            "       </td>\n",
            "       <td>\n",
            "        Ana Sirigueijo - Fone:(XX)XXXX-XXXX; Sebastião Costa - Fone:(XX)XXXX-XXXX\n",
            "       </td>\n",
            "      </tr>\n",
            "      <tr>\n",
            "       <td>\n",
            "        Baleia Azul\n",
            "       </td>\n",
            "       <td>\n",
            "        <ul>\n",
            "         <li>\n",
            "          Alina Ferreira - Fone:(XX)XXXX-XXXX\n",
            "         </li>\n",
            "         <li>\n",
            "          Jorge Matheus - Fone:(XX)XXXX-XXXX\n",
            "         </li>\n",
            "        </ul>\n",
            "       </td>\n",
            "      </tr>\n",
            "      <tr>\n",
            "       <td>\n",
            "        Enguia\n",
            "       </td>\n",
            "       <td>\n",
            "        <a href=\"pdfs/contatos-enguia.pdf\">\n",
            "         Nossos contatos\n",
            "        </a>\n",
            "       </td>\n",
            "      </tr>\n",
            "     </tbody>\n",
            "    </table>\n",
            "   </div>\n",
            "  </main>\n",
            "  <footer>\n",
            "   <img src=\"imagens/oceano-logo-cinza.png\"/>\n",
            "   <p>\n",
            "    Site criado para o curso de Web Scraping do Ocean\n",
            "   </p>\n",
            "  </footer>\n",
            " </body>\n",
            "</html>\n"
          ],
          "name": "stdout"
        }
      ]
    },
    {
      "cell_type": "markdown",
      "metadata": {
        "id": "wNFcebkjGcdx"
      },
      "source": [
        "Pegando elementos do url_sobre"
      ]
    },
    {
      "cell_type": "code",
      "metadata": {
        "colab": {
          "base_uri": "https://localhost:8080/",
          "height": 35
        },
        "id": "vfHxx58FD2yh",
        "outputId": "bf921a4b-e204-4e97-d51c-59cec799a20f"
      },
      "source": [
        "soup_sobre.find(\"div\", {\"class\": \"about\"}).find(\"h2\").get_text()"
      ],
      "execution_count": 6,
      "outputs": [
        {
          "output_type": "execute_result",
          "data": {
            "application/vnd.google.colaboratory.intrinsic+json": {
              "type": "string"
            },
            "text/plain": [
              "'Sobre este site'"
            ]
          },
          "metadata": {
            "tags": []
          },
          "execution_count": 6
        }
      ]
    },
    {
      "cell_type": "code",
      "metadata": {
        "colab": {
          "base_uri": "https://localhost:8080/",
          "height": 35
        },
        "id": "DD5lsqt2EpY6",
        "outputId": "df85b859-5811-4723-ac31-47096b62d775"
      },
      "source": [
        "soup_sobre.find(\"div\", {\"class\": \"about\"}).find(\"a\").get(\"href\")\r\n"
      ],
      "execution_count": 7,
      "outputs": [
        {
          "output_type": "execute_result",
          "data": {
            "application/vnd.google.colaboratory.intrinsic+json": {
              "type": "string"
            },
            "text/plain": [
              "'http://www.oceanbrasil.com/'"
            ]
          },
          "metadata": {
            "tags": []
          },
          "execution_count": 7
        }
      ]
    },
    {
      "cell_type": "code",
      "metadata": {
        "colab": {
          "base_uri": "https://localhost:8080/"
        },
        "id": "DrUmqIvrF6aw",
        "outputId": "5f3cbf17-94c1-46e3-9eed-2242e6ae59df"
      },
      "source": [
        "soup_sobre.find(\"div\", {\"class\": \"about\"}).find(\"ol\").find_all(\"li\")"
      ],
      "execution_count": 8,
      "outputs": [
        {
          "output_type": "execute_result",
          "data": {
            "text/plain": [
              "[<li>Que tal coletar o texto <em>\"Sobre este site\"</em> para começar?</li>,\n",
              " <li>Agora extraia o link contido na palavra <em>\"Ocean\"</em>.</li>,\n",
              " <li>Em seguida, colete todos os itens desta lista.</li>,\n",
              " <li>Por fim, colete apenas este último item da lista.</li>]"
            ]
          },
          "metadata": {
            "tags": []
          },
          "execution_count": 8
        }
      ]
    },
    {
      "cell_type": "code",
      "metadata": {
        "colab": {
          "base_uri": "https://localhost:8080/"
        },
        "id": "6Dl8rcwaG05x",
        "outputId": "36c26508-e4b2-4fd6-f5f3-a2a6db62ef84"
      },
      "source": [
        "for item in soup_sobre.find(\"div\", {\"class\": \"about\"}).find(\"ol\").find_all(\"li\"):\r\n",
        "    print(item.get_text())"
      ],
      "execution_count": 9,
      "outputs": [
        {
          "output_type": "stream",
          "text": [
            "Que tal coletar o texto \"Sobre este site\" para começar?\n",
            "Agora extraia o link contido na palavra \"Ocean\".\n",
            "Em seguida, colete todos os itens desta lista.\n",
            "Por fim, colete apenas este último item da lista.\n"
          ],
          "name": "stdout"
        }
      ]
    },
    {
      "cell_type": "code",
      "metadata": {
        "colab": {
          "base_uri": "https://localhost:8080/",
          "height": 35
        },
        "id": "0-cBz84AHMXd",
        "outputId": "755fb951-4667-465a-e53b-112073128afb"
      },
      "source": [
        "soup_sobre.find(\"div\", {\"class\": \"about\"}).find(\"ol\").find_all(\"li\")[-1].get_text()"
      ],
      "execution_count": 10,
      "outputs": [
        {
          "output_type": "execute_result",
          "data": {
            "application/vnd.google.colaboratory.intrinsic+json": {
              "type": "string"
            },
            "text/plain": [
              "'Por fim, colete apenas este último item da lista.'"
            ]
          },
          "metadata": {
            "tags": []
          },
          "execution_count": 10
        }
      ]
    },
    {
      "cell_type": "markdown",
      "metadata": {
        "id": "eppqj0xEJjgG"
      },
      "source": [
        "Ordenando informações do site"
      ]
    },
    {
      "cell_type": "code",
      "metadata": {
        "id": "GFE3p_s3JI3U"
      },
      "source": [
        "import pandas as pd"
      ],
      "execution_count": 11,
      "outputs": []
    },
    {
      "cell_type": "code",
      "metadata": {
        "colab": {
          "base_uri": "https://localhost:8080/"
        },
        "id": "lBtLmhbVHR0J",
        "outputId": "148cfebe-0d33-44ab-9521-5c2eea22161e"
      },
      "source": [
        "soup_busca.find('div', {'class': 'ad-card'})"
      ],
      "execution_count": 12,
      "outputs": [
        {
          "output_type": "execute_result",
          "data": {
            "text/plain": [
              "<div class=\"ad-card\">\n",
              "<img class=\"apto-img\" src=\"imagens/apto-01.jpg\"/>\n",
              "<div class=\"ad-card-info\">\n",
              "<h2>Lindo apartamento para alugar</h2>\n",
              "<ul class=\"features\">\n",
              "<li><img src=\"imagens/area.png\"/> 100 m²</li>\n",
              "<li><img src=\"imagens/bedrooms.png\"/> 3 quarto(s)</li>\n",
              "<li><img src=\"imagens/toilet.png\"/> 2 banheiro(s)</li>\n",
              "<li><img src=\"imagens/parking.png\"/> 2 vaga(s)</li>\n",
              "</ul>\n",
              "<ul class=\"resources\">\n",
              "<li>Mobiliado</li>\n",
              "<li>Portaria 24h</li>\n",
              "<li>Elevador</li>\n",
              "<li>Piscina</li>\n",
              "<li>Churrasqueira</li>\n",
              "<li>Salão de Festas</li>\n",
              "<li>Academia</li>\n",
              "<li>Playground</li>\n",
              "<li>Quadra poliesportiva</li>\n",
              "<li>Salão de jogos</li>\n",
              "<li>Aceita animais</li>\n",
              "</ul>\n",
              "<p>Localização: Oceano Pacífico</p>\n",
              "</div>\n",
              "<div class=\"ad-card-price\">\n",
              "<p>Aluguel: R$ 4.000,00</p>\n",
              "<p>Condomínio: 500,00</p>\n",
              "<p>IPTU: R$ 100,00</p>\n",
              "<p>Corretora: Tubarão</p>\n",
              "</div>\n",
              "</div>"
            ]
          },
          "metadata": {
            "tags": []
          },
          "execution_count": 12
        }
      ]
    },
    {
      "cell_type": "code",
      "metadata": {
        "colab": {
          "base_uri": "https://localhost:8080/"
        },
        "id": "KGnjiozOJLN_",
        "outputId": "a000777d-13eb-4b43-d880-f94fb1df6264"
      },
      "source": [
        "soup_busca.find('ul', {'class': 'features'})"
      ],
      "execution_count": 13,
      "outputs": [
        {
          "output_type": "execute_result",
          "data": {
            "text/plain": [
              "<ul class=\"features\">\n",
              "<li><img src=\"imagens/area.png\"/> 100 m²</li>\n",
              "<li><img src=\"imagens/bedrooms.png\"/> 3 quarto(s)</li>\n",
              "<li><img src=\"imagens/toilet.png\"/> 2 banheiro(s)</li>\n",
              "<li><img src=\"imagens/parking.png\"/> 2 vaga(s)</li>\n",
              "</ul>"
            ]
          },
          "metadata": {
            "tags": []
          },
          "execution_count": 13
        }
      ]
    },
    {
      "cell_type": "code",
      "metadata": {
        "colab": {
          "base_uri": "https://localhost:8080/"
        },
        "id": "NTDgbkysJRPD",
        "outputId": "24ee22c0-1e98-4e16-a803-4e89a52c668c"
      },
      "source": [
        "soup_busca.find('ul', {'class': 'features'}).find_all('li')"
      ],
      "execution_count": 14,
      "outputs": [
        {
          "output_type": "execute_result",
          "data": {
            "text/plain": [
              "[<li><img src=\"imagens/area.png\"/> 100 m²</li>,\n",
              " <li><img src=\"imagens/bedrooms.png\"/> 3 quarto(s)</li>,\n",
              " <li><img src=\"imagens/toilet.png\"/> 2 banheiro(s)</li>,\n",
              " <li><img src=\"imagens/parking.png\"/> 2 vaga(s)</li>]"
            ]
          },
          "metadata": {
            "tags": []
          },
          "execution_count": 14
        }
      ]
    },
    {
      "cell_type": "code",
      "metadata": {
        "colab": {
          "base_uri": "https://localhost:8080/"
        },
        "id": "j506qBupJgRG",
        "outputId": "a5865449-a1ed-41c8-f505-a5db833e8f89"
      },
      "source": [
        "for caracteristica in soup_busca.find('ul', {'class': 'features'}).find_all('li'):\r\n",
        "    print(caracteristica.get_text())"
      ],
      "execution_count": 15,
      "outputs": [
        {
          "output_type": "stream",
          "text": [
            " 100 m²\n",
            " 3 quarto(s)\n",
            " 2 banheiro(s)\n",
            " 2 vaga(s)\n"
          ],
          "name": "stdout"
        }
      ]
    },
    {
      "cell_type": "code",
      "metadata": {
        "colab": {
          "base_uri": "https://localhost:8080/"
        },
        "id": "ZipSk5l9JhuC",
        "outputId": "c013be6e-3f12-4f42-8d3e-39b4fb558dbd"
      },
      "source": [
        "soup_busca.find('ul', {'class': 'resources'})"
      ],
      "execution_count": 16,
      "outputs": [
        {
          "output_type": "execute_result",
          "data": {
            "text/plain": [
              "<ul class=\"resources\">\n",
              "<li>Mobiliado</li>\n",
              "<li>Portaria 24h</li>\n",
              "<li>Elevador</li>\n",
              "<li>Piscina</li>\n",
              "<li>Churrasqueira</li>\n",
              "<li>Salão de Festas</li>\n",
              "<li>Academia</li>\n",
              "<li>Playground</li>\n",
              "<li>Quadra poliesportiva</li>\n",
              "<li>Salão de jogos</li>\n",
              "<li>Aceita animais</li>\n",
              "</ul>"
            ]
          },
          "metadata": {
            "tags": []
          },
          "execution_count": 16
        }
      ]
    },
    {
      "cell_type": "code",
      "metadata": {
        "colab": {
          "base_uri": "https://localhost:8080/"
        },
        "id": "1WksB2SNJqji",
        "outputId": "a977d866-c974-4b42-cb2d-f0524f040d47"
      },
      "source": [
        "soup_busca.find('ul', {'class': 'resources'}).find_all('li')"
      ],
      "execution_count": 17,
      "outputs": [
        {
          "output_type": "execute_result",
          "data": {
            "text/plain": [
              "[<li>Mobiliado</li>,\n",
              " <li>Portaria 24h</li>,\n",
              " <li>Elevador</li>,\n",
              " <li>Piscina</li>,\n",
              " <li>Churrasqueira</li>,\n",
              " <li>Salão de Festas</li>,\n",
              " <li>Academia</li>,\n",
              " <li>Playground</li>,\n",
              " <li>Quadra poliesportiva</li>,\n",
              " <li>Salão de jogos</li>,\n",
              " <li>Aceita animais</li>]"
            ]
          },
          "metadata": {
            "tags": []
          },
          "execution_count": 17
        }
      ]
    },
    {
      "cell_type": "code",
      "metadata": {
        "colab": {
          "base_uri": "https://localhost:8080/"
        },
        "id": "LLmRN0gAJr_t",
        "outputId": "26f9b0d4-7a34-4ff3-f865-3c53fd7f1eba"
      },
      "source": [
        "for recurso in soup_busca.find('ul', {'class': 'resources'}).find_all('li'):\r\n",
        "    print(recurso.get_text())"
      ],
      "execution_count": 18,
      "outputs": [
        {
          "output_type": "stream",
          "text": [
            "Mobiliado\n",
            "Portaria 24h\n",
            "Elevador\n",
            "Piscina\n",
            "Churrasqueira\n",
            "Salão de Festas\n",
            "Academia\n",
            "Playground\n",
            "Quadra poliesportiva\n",
            "Salão de jogos\n",
            "Aceita animais\n"
          ],
          "name": "stdout"
        }
      ]
    },
    {
      "cell_type": "code",
      "metadata": {
        "colab": {
          "base_uri": "https://localhost:8080/"
        },
        "id": "wzd2uKbZJy_x",
        "outputId": "a38d1baa-efde-416e-c66e-d287292a98c5"
      },
      "source": [
        "soup_busca.find('div', {'class': 'ad-card-price'})"
      ],
      "execution_count": 19,
      "outputs": [
        {
          "output_type": "execute_result",
          "data": {
            "text/plain": [
              "<div class=\"ad-card-price\">\n",
              "<p>Aluguel: R$ 4.000,00</p>\n",
              "<p>Condomínio: 500,00</p>\n",
              "<p>IPTU: R$ 100,00</p>\n",
              "<p>Corretora: Tubarão</p>\n",
              "</div>"
            ]
          },
          "metadata": {
            "tags": []
          },
          "execution_count": 19
        }
      ]
    },
    {
      "cell_type": "code",
      "metadata": {
        "colab": {
          "base_uri": "https://localhost:8080/"
        },
        "id": "no3cDK7rJ_GV",
        "outputId": "9f25335f-b754-4523-973d-797764188777"
      },
      "source": [
        "soup_busca.find('div', {'class': 'ad-card-price'}).find_all('p')"
      ],
      "execution_count": 20,
      "outputs": [
        {
          "output_type": "execute_result",
          "data": {
            "text/plain": [
              "[<p>Aluguel: R$ 4.000,00</p>,\n",
              " <p>Condomínio: 500,00</p>,\n",
              " <p>IPTU: R$ 100,00</p>,\n",
              " <p>Corretora: Tubarão</p>]"
            ]
          },
          "metadata": {
            "tags": []
          },
          "execution_count": 20
        }
      ]
    },
    {
      "cell_type": "code",
      "metadata": {
        "colab": {
          "base_uri": "https://localhost:8080/"
        },
        "id": "-FkmBDgTKTgb",
        "outputId": "43306eb0-bd7e-462a-fe89-07cb64a5d692"
      },
      "source": [
        "soup_busca.find('div', {'class': 'ad-card-price'}).find_all('p')[:-1]"
      ],
      "execution_count": 21,
      "outputs": [
        {
          "output_type": "execute_result",
          "data": {
            "text/plain": [
              "[<p>Aluguel: R$ 4.000,00</p>,\n",
              " <p>Condomínio: 500,00</p>,\n",
              " <p>IPTU: R$ 100,00</p>]"
            ]
          },
          "metadata": {
            "tags": []
          },
          "execution_count": 21
        }
      ]
    },
    {
      "cell_type": "code",
      "metadata": {
        "colab": {
          "base_uri": "https://localhost:8080/"
        },
        "id": "iA87SOKaKWI8",
        "outputId": "a7dbe385-4342-4d5c-f9c9-32a5d0cfb120"
      },
      "source": [
        "for precos in soup_busca.find('div', {'class': 'ad-card-price'}).find_all('p')[:-1]:\r\n",
        "    print(precos.get_text())"
      ],
      "execution_count": 22,
      "outputs": [
        {
          "output_type": "stream",
          "text": [
            "Aluguel: R$ 4.000,00\n",
            "Condomínio: 500,00\n",
            "IPTU: R$ 100,00\n"
          ],
          "name": "stdout"
        }
      ]
    },
    {
      "cell_type": "code",
      "metadata": {
        "colab": {
          "base_uri": "https://localhost:8080/",
          "height": 35
        },
        "id": "G1Z0SUDaKXVm",
        "outputId": "a888711a-5800-48ea-d957-cbe73596a1c3"
      },
      "source": [
        "soup_busca.find('div', {'class': 'ad-card-price'}).find_all('p')[-1].get_text()"
      ],
      "execution_count": 23,
      "outputs": [
        {
          "output_type": "execute_result",
          "data": {
            "application/vnd.google.colaboratory.intrinsic+json": {
              "type": "string"
            },
            "text/plain": [
              "'Corretora: Tubarão'"
            ]
          },
          "metadata": {
            "tags": []
          },
          "execution_count": 23
        }
      ]
    },
    {
      "cell_type": "code",
      "metadata": {
        "colab": {
          "base_uri": "https://localhost:8080/"
        },
        "id": "FBf3VE-cKa4Q",
        "outputId": "ffc05c25-5c8a-46c6-88bd-7add292c93b4"
      },
      "source": [
        "soup_busca.find('div', {'class': 'ad-card-info'})"
      ],
      "execution_count": 24,
      "outputs": [
        {
          "output_type": "execute_result",
          "data": {
            "text/plain": [
              "<div class=\"ad-card-info\">\n",
              "<h2>Lindo apartamento para alugar</h2>\n",
              "<ul class=\"features\">\n",
              "<li><img src=\"imagens/area.png\"/> 100 m²</li>\n",
              "<li><img src=\"imagens/bedrooms.png\"/> 3 quarto(s)</li>\n",
              "<li><img src=\"imagens/toilet.png\"/> 2 banheiro(s)</li>\n",
              "<li><img src=\"imagens/parking.png\"/> 2 vaga(s)</li>\n",
              "</ul>\n",
              "<ul class=\"resources\">\n",
              "<li>Mobiliado</li>\n",
              "<li>Portaria 24h</li>\n",
              "<li>Elevador</li>\n",
              "<li>Piscina</li>\n",
              "<li>Churrasqueira</li>\n",
              "<li>Salão de Festas</li>\n",
              "<li>Academia</li>\n",
              "<li>Playground</li>\n",
              "<li>Quadra poliesportiva</li>\n",
              "<li>Salão de jogos</li>\n",
              "<li>Aceita animais</li>\n",
              "</ul>\n",
              "<p>Localização: Oceano Pacífico</p>\n",
              "</div>"
            ]
          },
          "metadata": {
            "tags": []
          },
          "execution_count": 24
        }
      ]
    },
    {
      "cell_type": "code",
      "metadata": {
        "colab": {
          "base_uri": "https://localhost:8080/",
          "height": 35
        },
        "id": "tyR736ulL3Mj",
        "outputId": "bb95186d-8c46-4be7-8102-ae24e0ed8cac"
      },
      "source": [
        "soup_busca.find('div', {'class': 'ad-card-info'}).find('p').get_text()"
      ],
      "execution_count": 25,
      "outputs": [
        {
          "output_type": "execute_result",
          "data": {
            "application/vnd.google.colaboratory.intrinsic+json": {
              "type": "string"
            },
            "text/plain": [
              "'Localização: Oceano Pacífico'"
            ]
          },
          "metadata": {
            "tags": []
          },
          "execution_count": 25
        }
      ]
    },
    {
      "cell_type": "code",
      "metadata": {
        "id": "l72Z8S91L6m9",
        "colab": {
          "base_uri": "https://localhost:8080/"
        },
        "outputId": "c0725580-a9ad-4183-faf3-078bed9ae1a2"
      },
      "source": [
        "soup_busca.find('div', {'class': 'ad-card-list'})"
      ],
      "execution_count": 26,
      "outputs": [
        {
          "output_type": "execute_result",
          "data": {
            "text/plain": [
              "<div class=\"ad-card-list\">\n",
              "<p>21 resultados obtidos - Página 1</p>\n",
              "<div class=\"ad-card\">\n",
              "<img class=\"apto-img\" src=\"imagens/apto-01.jpg\"/>\n",
              "<div class=\"ad-card-info\">\n",
              "<h2>Lindo apartamento para alugar</h2>\n",
              "<ul class=\"features\">\n",
              "<li><img src=\"imagens/area.png\"/> 100 m²</li>\n",
              "<li><img src=\"imagens/bedrooms.png\"/> 3 quarto(s)</li>\n",
              "<li><img src=\"imagens/toilet.png\"/> 2 banheiro(s)</li>\n",
              "<li><img src=\"imagens/parking.png\"/> 2 vaga(s)</li>\n",
              "</ul>\n",
              "<ul class=\"resources\">\n",
              "<li>Mobiliado</li>\n",
              "<li>Portaria 24h</li>\n",
              "<li>Elevador</li>\n",
              "<li>Piscina</li>\n",
              "<li>Churrasqueira</li>\n",
              "<li>Salão de Festas</li>\n",
              "<li>Academia</li>\n",
              "<li>Playground</li>\n",
              "<li>Quadra poliesportiva</li>\n",
              "<li>Salão de jogos</li>\n",
              "<li>Aceita animais</li>\n",
              "</ul>\n",
              "<p>Localização: Oceano Pacífico</p>\n",
              "</div>\n",
              "<div class=\"ad-card-price\">\n",
              "<p>Aluguel: R$ 4.000,00</p>\n",
              "<p>Condomínio: 500,00</p>\n",
              "<p>IPTU: R$ 100,00</p>\n",
              "<p>Corretora: Tubarão</p>\n",
              "</div>\n",
              "</div>\n",
              "<div class=\"ad-card\">\n",
              "<img class=\"apto-img\" src=\"imagens/apto-02.jpg\"/>\n",
              "<div class=\"ad-card-info\">\n",
              "<h2>Ótimo lugar para morar</h2>\n",
              "<ul class=\"features\">\n",
              "<li><img src=\"imagens/area.png\"/> 60 m²</li>\n",
              "<li><img src=\"imagens/bedrooms.png\"/> 2 quarto(s)</li>\n",
              "<li><img src=\"imagens/toilet.png\"/> 2 banheiro(s)</li>\n",
              "<li><img src=\"imagens/parking.png\"/> 1 vaga(s)</li>\n",
              "</ul>\n",
              "<ul class=\"resources\">\n",
              "<li>Mobiliado</li>\n",
              "<li>Portaria 24h</li>\n",
              "<li>Salão de Festas</li>\n",
              "<li>Quadra poliesportiva</li>\n",
              "</ul>\n",
              "<p>Localização: Oceano Índico</p>\n",
              "</div>\n",
              "<div class=\"ad-card-price\">\n",
              "<p>Aluguel: R$ 2.000,00</p>\n",
              "<p>Condomínio: 200,00</p>\n",
              "<p>IPTU: R$ 50,00</p>\n",
              "<p>Corretora: Carangueijo</p>\n",
              "</div>\n",
              "</div>\n",
              "<div class=\"ad-card\">\n",
              "<img class=\"apto-img\" src=\"imagens/apto-03.jpg\"/>\n",
              "<div class=\"ad-card-info\">\n",
              "<h2>Belíssimo apartamento mobiliado</h2>\n",
              "<ul class=\"features\">\n",
              "<li><img src=\"imagens/area.png\"/> 50 m²</li>\n",
              "<li><img src=\"imagens/bedrooms.png\"/> 1 quarto(s)</li>\n",
              "<li><img src=\"imagens/toilet.png\"/> 1 banheiro(s)</li>\n",
              "<li><img src=\"imagens/parking.png\"/> 1 vaga(s)</li>\n",
              "</ul>\n",
              "<ul class=\"resources\">\n",
              "<li>Mobiliado</li>\n",
              "</ul>\n",
              "<p>Localização: Mar de Java</p>\n",
              "</div>\n",
              "<div class=\"ad-card-price\">\n",
              "<p>Aluguel: R$ 1.300,00</p>\n",
              "<p>Condomínio: 200,00</p>\n",
              "<p>IPTU: R$ 50,00</p>\n",
              "<p>Corretora: Baleia Azul</p>\n",
              "</div>\n",
              "</div>\n",
              "<div class=\"ad-card\">\n",
              "<img class=\"apto-img\" src=\"imagens/apto-04.jpg\"/>\n",
              "<div class=\"ad-card-info\">\n",
              "<h2>Um cantinho todo seu</h2>\n",
              "<ul class=\"features\">\n",
              "<li><img src=\"imagens/area.png\"/> 60 m²</li>\n",
              "<li><img src=\"imagens/bedrooms.png\"/> 2 quarto(s)</li>\n",
              "<li><img src=\"imagens/toilet.png\"/> 2 banheiro(s)</li>\n",
              "<li><img src=\"imagens/parking.png\"/> 1 vaga(s)</li>\n",
              "</ul>\n",
              "<ul class=\"resources\">\n",
              "<li>Mobiliado</li>\n",
              "<li>Portaria 24h</li>\n",
              "</ul>\n",
              "<p>Localização: Oceano Índico</p>\n",
              "</div>\n",
              "<div class=\"ad-card-price\">\n",
              "<p>Aluguel: R$ 1.800,00</p>\n",
              "<p>Condomínio: 100,00</p>\n",
              "<p>IPTU: R$ 20,00</p>\n",
              "<p>Corretora: Baleia Azul</p>\n",
              "</div>\n",
              "</div>\n",
              "<div class=\"ad-card\">\n",
              "<img class=\"apto-img\" src=\"imagens/apto-05.jpg\"/>\n",
              "<div class=\"ad-card-info\">\n",
              "<h2>Alugue já! Ótima oportunidade</h2>\n",
              "<ul class=\"features\">\n",
              "<li><img src=\"imagens/area.png\"/> 120 m²</li>\n",
              "<li><img src=\"imagens/bedrooms.png\"/> 4 quarto(s)</li>\n",
              "<li><img src=\"imagens/toilet.png\"/> 3 banheiro(s)</li>\n",
              "<li><img src=\"imagens/parking.png\"/> 2 vaga(s)</li>\n",
              "</ul>\n",
              "<ul class=\"resources\">\n",
              "<li>Mobiliado</li>\n",
              "<li>Portaria 24h</li>\n",
              "<li>Elevador</li>\n",
              "<li>Piscina</li>\n",
              "<li>Churrasqueira</li>\n",
              "<li>Salão de Festas</li>\n",
              "<li>Academia</li>\n",
              "<li>Playground</li>\n",
              "<li>Quadra poliesportiva</li>\n",
              "<li>Salão de jogos</li>\n",
              "<li>Aceita animais</li>\n",
              "</ul>\n",
              "<p>Localização: Oceano Pacífico</p>\n",
              "</div>\n",
              "<div class=\"ad-card-price\">\n",
              "<p>Aluguel: R$ 3.800,00</p>\n",
              "<p>Condomínio: 500,00</p>\n",
              "<p>IPTU: R$ 200,00</p>\n",
              "<p>Corretora: Tubarão</p>\n",
              "</div>\n",
              "</div>\n",
              "</div>"
            ]
          },
          "metadata": {
            "tags": []
          },
          "execution_count": 26
        }
      ]
    },
    {
      "cell_type": "code",
      "metadata": {
        "colab": {
          "base_uri": "https://localhost:8080/"
        },
        "id": "YRztza1GV5iC",
        "outputId": "303280de-2dfb-44e6-aea8-528472a7e35c"
      },
      "source": [
        "soup_busca.find('div', {'class': 'ad-card-list'}).find_all('div', {'class': 'ad-card'})"
      ],
      "execution_count": 27,
      "outputs": [
        {
          "output_type": "execute_result",
          "data": {
            "text/plain": [
              "[<div class=\"ad-card\">\n",
              " <img class=\"apto-img\" src=\"imagens/apto-01.jpg\"/>\n",
              " <div class=\"ad-card-info\">\n",
              " <h2>Lindo apartamento para alugar</h2>\n",
              " <ul class=\"features\">\n",
              " <li><img src=\"imagens/area.png\"/> 100 m²</li>\n",
              " <li><img src=\"imagens/bedrooms.png\"/> 3 quarto(s)</li>\n",
              " <li><img src=\"imagens/toilet.png\"/> 2 banheiro(s)</li>\n",
              " <li><img src=\"imagens/parking.png\"/> 2 vaga(s)</li>\n",
              " </ul>\n",
              " <ul class=\"resources\">\n",
              " <li>Mobiliado</li>\n",
              " <li>Portaria 24h</li>\n",
              " <li>Elevador</li>\n",
              " <li>Piscina</li>\n",
              " <li>Churrasqueira</li>\n",
              " <li>Salão de Festas</li>\n",
              " <li>Academia</li>\n",
              " <li>Playground</li>\n",
              " <li>Quadra poliesportiva</li>\n",
              " <li>Salão de jogos</li>\n",
              " <li>Aceita animais</li>\n",
              " </ul>\n",
              " <p>Localização: Oceano Pacífico</p>\n",
              " </div>\n",
              " <div class=\"ad-card-price\">\n",
              " <p>Aluguel: R$ 4.000,00</p>\n",
              " <p>Condomínio: 500,00</p>\n",
              " <p>IPTU: R$ 100,00</p>\n",
              " <p>Corretora: Tubarão</p>\n",
              " </div>\n",
              " </div>, <div class=\"ad-card\">\n",
              " <img class=\"apto-img\" src=\"imagens/apto-02.jpg\"/>\n",
              " <div class=\"ad-card-info\">\n",
              " <h2>Ótimo lugar para morar</h2>\n",
              " <ul class=\"features\">\n",
              " <li><img src=\"imagens/area.png\"/> 60 m²</li>\n",
              " <li><img src=\"imagens/bedrooms.png\"/> 2 quarto(s)</li>\n",
              " <li><img src=\"imagens/toilet.png\"/> 2 banheiro(s)</li>\n",
              " <li><img src=\"imagens/parking.png\"/> 1 vaga(s)</li>\n",
              " </ul>\n",
              " <ul class=\"resources\">\n",
              " <li>Mobiliado</li>\n",
              " <li>Portaria 24h</li>\n",
              " <li>Salão de Festas</li>\n",
              " <li>Quadra poliesportiva</li>\n",
              " </ul>\n",
              " <p>Localização: Oceano Índico</p>\n",
              " </div>\n",
              " <div class=\"ad-card-price\">\n",
              " <p>Aluguel: R$ 2.000,00</p>\n",
              " <p>Condomínio: 200,00</p>\n",
              " <p>IPTU: R$ 50,00</p>\n",
              " <p>Corretora: Carangueijo</p>\n",
              " </div>\n",
              " </div>, <div class=\"ad-card\">\n",
              " <img class=\"apto-img\" src=\"imagens/apto-03.jpg\"/>\n",
              " <div class=\"ad-card-info\">\n",
              " <h2>Belíssimo apartamento mobiliado</h2>\n",
              " <ul class=\"features\">\n",
              " <li><img src=\"imagens/area.png\"/> 50 m²</li>\n",
              " <li><img src=\"imagens/bedrooms.png\"/> 1 quarto(s)</li>\n",
              " <li><img src=\"imagens/toilet.png\"/> 1 banheiro(s)</li>\n",
              " <li><img src=\"imagens/parking.png\"/> 1 vaga(s)</li>\n",
              " </ul>\n",
              " <ul class=\"resources\">\n",
              " <li>Mobiliado</li>\n",
              " </ul>\n",
              " <p>Localização: Mar de Java</p>\n",
              " </div>\n",
              " <div class=\"ad-card-price\">\n",
              " <p>Aluguel: R$ 1.300,00</p>\n",
              " <p>Condomínio: 200,00</p>\n",
              " <p>IPTU: R$ 50,00</p>\n",
              " <p>Corretora: Baleia Azul</p>\n",
              " </div>\n",
              " </div>, <div class=\"ad-card\">\n",
              " <img class=\"apto-img\" src=\"imagens/apto-04.jpg\"/>\n",
              " <div class=\"ad-card-info\">\n",
              " <h2>Um cantinho todo seu</h2>\n",
              " <ul class=\"features\">\n",
              " <li><img src=\"imagens/area.png\"/> 60 m²</li>\n",
              " <li><img src=\"imagens/bedrooms.png\"/> 2 quarto(s)</li>\n",
              " <li><img src=\"imagens/toilet.png\"/> 2 banheiro(s)</li>\n",
              " <li><img src=\"imagens/parking.png\"/> 1 vaga(s)</li>\n",
              " </ul>\n",
              " <ul class=\"resources\">\n",
              " <li>Mobiliado</li>\n",
              " <li>Portaria 24h</li>\n",
              " </ul>\n",
              " <p>Localização: Oceano Índico</p>\n",
              " </div>\n",
              " <div class=\"ad-card-price\">\n",
              " <p>Aluguel: R$ 1.800,00</p>\n",
              " <p>Condomínio: 100,00</p>\n",
              " <p>IPTU: R$ 20,00</p>\n",
              " <p>Corretora: Baleia Azul</p>\n",
              " </div>\n",
              " </div>, <div class=\"ad-card\">\n",
              " <img class=\"apto-img\" src=\"imagens/apto-05.jpg\"/>\n",
              " <div class=\"ad-card-info\">\n",
              " <h2>Alugue já! Ótima oportunidade</h2>\n",
              " <ul class=\"features\">\n",
              " <li><img src=\"imagens/area.png\"/> 120 m²</li>\n",
              " <li><img src=\"imagens/bedrooms.png\"/> 4 quarto(s)</li>\n",
              " <li><img src=\"imagens/toilet.png\"/> 3 banheiro(s)</li>\n",
              " <li><img src=\"imagens/parking.png\"/> 2 vaga(s)</li>\n",
              " </ul>\n",
              " <ul class=\"resources\">\n",
              " <li>Mobiliado</li>\n",
              " <li>Portaria 24h</li>\n",
              " <li>Elevador</li>\n",
              " <li>Piscina</li>\n",
              " <li>Churrasqueira</li>\n",
              " <li>Salão de Festas</li>\n",
              " <li>Academia</li>\n",
              " <li>Playground</li>\n",
              " <li>Quadra poliesportiva</li>\n",
              " <li>Salão de jogos</li>\n",
              " <li>Aceita animais</li>\n",
              " </ul>\n",
              " <p>Localização: Oceano Pacífico</p>\n",
              " </div>\n",
              " <div class=\"ad-card-price\">\n",
              " <p>Aluguel: R$ 3.800,00</p>\n",
              " <p>Condomínio: 500,00</p>\n",
              " <p>IPTU: R$ 200,00</p>\n",
              " <p>Corretora: Tubarão</p>\n",
              " </div>\n",
              " </div>]"
            ]
          },
          "metadata": {
            "tags": []
          },
          "execution_count": 27
        }
      ]
    },
    {
      "cell_type": "code",
      "metadata": {
        "colab": {
          "base_uri": "https://localhost:8080/"
        },
        "id": "stAVeipnWQfM",
        "outputId": "af5792c3-63e0-4ad4-bb96-61094c455839"
      },
      "source": [
        "for resultado in soup_busca.find('div', {'class': 'ad-card-list'}).find_all('div', {'class': 'ad-card'}):\r\n",
        "    print(resultado)\r\n",
        "    print('-------------')"
      ],
      "execution_count": 28,
      "outputs": [
        {
          "output_type": "stream",
          "text": [
            "<div class=\"ad-card\">\n",
            "<img class=\"apto-img\" src=\"imagens/apto-01.jpg\"/>\n",
            "<div class=\"ad-card-info\">\n",
            "<h2>Lindo apartamento para alugar</h2>\n",
            "<ul class=\"features\">\n",
            "<li><img src=\"imagens/area.png\"/> 100 m²</li>\n",
            "<li><img src=\"imagens/bedrooms.png\"/> 3 quarto(s)</li>\n",
            "<li><img src=\"imagens/toilet.png\"/> 2 banheiro(s)</li>\n",
            "<li><img src=\"imagens/parking.png\"/> 2 vaga(s)</li>\n",
            "</ul>\n",
            "<ul class=\"resources\">\n",
            "<li>Mobiliado</li>\n",
            "<li>Portaria 24h</li>\n",
            "<li>Elevador</li>\n",
            "<li>Piscina</li>\n",
            "<li>Churrasqueira</li>\n",
            "<li>Salão de Festas</li>\n",
            "<li>Academia</li>\n",
            "<li>Playground</li>\n",
            "<li>Quadra poliesportiva</li>\n",
            "<li>Salão de jogos</li>\n",
            "<li>Aceita animais</li>\n",
            "</ul>\n",
            "<p>Localização: Oceano Pacífico</p>\n",
            "</div>\n",
            "<div class=\"ad-card-price\">\n",
            "<p>Aluguel: R$ 4.000,00</p>\n",
            "<p>Condomínio: 500,00</p>\n",
            "<p>IPTU: R$ 100,00</p>\n",
            "<p>Corretora: Tubarão</p>\n",
            "</div>\n",
            "</div>\n",
            "-------------\n",
            "<div class=\"ad-card\">\n",
            "<img class=\"apto-img\" src=\"imagens/apto-02.jpg\"/>\n",
            "<div class=\"ad-card-info\">\n",
            "<h2>Ótimo lugar para morar</h2>\n",
            "<ul class=\"features\">\n",
            "<li><img src=\"imagens/area.png\"/> 60 m²</li>\n",
            "<li><img src=\"imagens/bedrooms.png\"/> 2 quarto(s)</li>\n",
            "<li><img src=\"imagens/toilet.png\"/> 2 banheiro(s)</li>\n",
            "<li><img src=\"imagens/parking.png\"/> 1 vaga(s)</li>\n",
            "</ul>\n",
            "<ul class=\"resources\">\n",
            "<li>Mobiliado</li>\n",
            "<li>Portaria 24h</li>\n",
            "<li>Salão de Festas</li>\n",
            "<li>Quadra poliesportiva</li>\n",
            "</ul>\n",
            "<p>Localização: Oceano Índico</p>\n",
            "</div>\n",
            "<div class=\"ad-card-price\">\n",
            "<p>Aluguel: R$ 2.000,00</p>\n",
            "<p>Condomínio: 200,00</p>\n",
            "<p>IPTU: R$ 50,00</p>\n",
            "<p>Corretora: Carangueijo</p>\n",
            "</div>\n",
            "</div>\n",
            "-------------\n",
            "<div class=\"ad-card\">\n",
            "<img class=\"apto-img\" src=\"imagens/apto-03.jpg\"/>\n",
            "<div class=\"ad-card-info\">\n",
            "<h2>Belíssimo apartamento mobiliado</h2>\n",
            "<ul class=\"features\">\n",
            "<li><img src=\"imagens/area.png\"/> 50 m²</li>\n",
            "<li><img src=\"imagens/bedrooms.png\"/> 1 quarto(s)</li>\n",
            "<li><img src=\"imagens/toilet.png\"/> 1 banheiro(s)</li>\n",
            "<li><img src=\"imagens/parking.png\"/> 1 vaga(s)</li>\n",
            "</ul>\n",
            "<ul class=\"resources\">\n",
            "<li>Mobiliado</li>\n",
            "</ul>\n",
            "<p>Localização: Mar de Java</p>\n",
            "</div>\n",
            "<div class=\"ad-card-price\">\n",
            "<p>Aluguel: R$ 1.300,00</p>\n",
            "<p>Condomínio: 200,00</p>\n",
            "<p>IPTU: R$ 50,00</p>\n",
            "<p>Corretora: Baleia Azul</p>\n",
            "</div>\n",
            "</div>\n",
            "-------------\n",
            "<div class=\"ad-card\">\n",
            "<img class=\"apto-img\" src=\"imagens/apto-04.jpg\"/>\n",
            "<div class=\"ad-card-info\">\n",
            "<h2>Um cantinho todo seu</h2>\n",
            "<ul class=\"features\">\n",
            "<li><img src=\"imagens/area.png\"/> 60 m²</li>\n",
            "<li><img src=\"imagens/bedrooms.png\"/> 2 quarto(s)</li>\n",
            "<li><img src=\"imagens/toilet.png\"/> 2 banheiro(s)</li>\n",
            "<li><img src=\"imagens/parking.png\"/> 1 vaga(s)</li>\n",
            "</ul>\n",
            "<ul class=\"resources\">\n",
            "<li>Mobiliado</li>\n",
            "<li>Portaria 24h</li>\n",
            "</ul>\n",
            "<p>Localização: Oceano Índico</p>\n",
            "</div>\n",
            "<div class=\"ad-card-price\">\n",
            "<p>Aluguel: R$ 1.800,00</p>\n",
            "<p>Condomínio: 100,00</p>\n",
            "<p>IPTU: R$ 20,00</p>\n",
            "<p>Corretora: Baleia Azul</p>\n",
            "</div>\n",
            "</div>\n",
            "-------------\n",
            "<div class=\"ad-card\">\n",
            "<img class=\"apto-img\" src=\"imagens/apto-05.jpg\"/>\n",
            "<div class=\"ad-card-info\">\n",
            "<h2>Alugue já! Ótima oportunidade</h2>\n",
            "<ul class=\"features\">\n",
            "<li><img src=\"imagens/area.png\"/> 120 m²</li>\n",
            "<li><img src=\"imagens/bedrooms.png\"/> 4 quarto(s)</li>\n",
            "<li><img src=\"imagens/toilet.png\"/> 3 banheiro(s)</li>\n",
            "<li><img src=\"imagens/parking.png\"/> 2 vaga(s)</li>\n",
            "</ul>\n",
            "<ul class=\"resources\">\n",
            "<li>Mobiliado</li>\n",
            "<li>Portaria 24h</li>\n",
            "<li>Elevador</li>\n",
            "<li>Piscina</li>\n",
            "<li>Churrasqueira</li>\n",
            "<li>Salão de Festas</li>\n",
            "<li>Academia</li>\n",
            "<li>Playground</li>\n",
            "<li>Quadra poliesportiva</li>\n",
            "<li>Salão de jogos</li>\n",
            "<li>Aceita animais</li>\n",
            "</ul>\n",
            "<p>Localização: Oceano Pacífico</p>\n",
            "</div>\n",
            "<div class=\"ad-card-price\">\n",
            "<p>Aluguel: R$ 3.800,00</p>\n",
            "<p>Condomínio: 500,00</p>\n",
            "<p>IPTU: R$ 200,00</p>\n",
            "<p>Corretora: Tubarão</p>\n",
            "</div>\n",
            "</div>\n",
            "-------------\n"
          ],
          "name": "stdout"
        }
      ]
    },
    {
      "cell_type": "code",
      "metadata": {
        "colab": {
          "base_uri": "https://localhost:8080/"
        },
        "id": "ALeUhxMtWU2e",
        "outputId": "b4db2cb1-3326-45f2-9c3b-e7edec29d841"
      },
      "source": [
        "for resultado in soup_busca.find('div', {'class': 'ad-card-list'}).find_all('div', {'class': 'ad-card'}):\r\n",
        "    caracteristicas = resultado.find('ul', {'class': 'features'})\r\n",
        "    print(caracteristicas)\r\n",
        "    print('-------------')"
      ],
      "execution_count": 29,
      "outputs": [
        {
          "output_type": "stream",
          "text": [
            "<ul class=\"features\">\n",
            "<li><img src=\"imagens/area.png\"/> 100 m²</li>\n",
            "<li><img src=\"imagens/bedrooms.png\"/> 3 quarto(s)</li>\n",
            "<li><img src=\"imagens/toilet.png\"/> 2 banheiro(s)</li>\n",
            "<li><img src=\"imagens/parking.png\"/> 2 vaga(s)</li>\n",
            "</ul>\n",
            "-------------\n",
            "<ul class=\"features\">\n",
            "<li><img src=\"imagens/area.png\"/> 60 m²</li>\n",
            "<li><img src=\"imagens/bedrooms.png\"/> 2 quarto(s)</li>\n",
            "<li><img src=\"imagens/toilet.png\"/> 2 banheiro(s)</li>\n",
            "<li><img src=\"imagens/parking.png\"/> 1 vaga(s)</li>\n",
            "</ul>\n",
            "-------------\n",
            "<ul class=\"features\">\n",
            "<li><img src=\"imagens/area.png\"/> 50 m²</li>\n",
            "<li><img src=\"imagens/bedrooms.png\"/> 1 quarto(s)</li>\n",
            "<li><img src=\"imagens/toilet.png\"/> 1 banheiro(s)</li>\n",
            "<li><img src=\"imagens/parking.png\"/> 1 vaga(s)</li>\n",
            "</ul>\n",
            "-------------\n",
            "<ul class=\"features\">\n",
            "<li><img src=\"imagens/area.png\"/> 60 m²</li>\n",
            "<li><img src=\"imagens/bedrooms.png\"/> 2 quarto(s)</li>\n",
            "<li><img src=\"imagens/toilet.png\"/> 2 banheiro(s)</li>\n",
            "<li><img src=\"imagens/parking.png\"/> 1 vaga(s)</li>\n",
            "</ul>\n",
            "-------------\n",
            "<ul class=\"features\">\n",
            "<li><img src=\"imagens/area.png\"/> 120 m²</li>\n",
            "<li><img src=\"imagens/bedrooms.png\"/> 4 quarto(s)</li>\n",
            "<li><img src=\"imagens/toilet.png\"/> 3 banheiro(s)</li>\n",
            "<li><img src=\"imagens/parking.png\"/> 2 vaga(s)</li>\n",
            "</ul>\n",
            "-------------\n"
          ],
          "name": "stdout"
        }
      ]
    },
    {
      "cell_type": "code",
      "metadata": {
        "colab": {
          "base_uri": "https://localhost:8080/"
        },
        "id": "4TYKT25gWb38",
        "outputId": "f65a2e1b-b1f1-4430-f9c2-df60f5656cb7"
      },
      "source": [
        "for resultado in soup_busca.find('div', {'class': 'ad-card-list'}).find_all('div', {'class': 'ad-card'}):\r\n",
        "    caracteristicas = resultado.find('ul', {'class': 'features'})\r\n",
        "    \r\n",
        "    for caract in caracteristicas.find_all('li'):\r\n",
        "        print(caract.get_text())\r\n",
        "    \r\n",
        "    print('-------------')"
      ],
      "execution_count": 30,
      "outputs": [
        {
          "output_type": "stream",
          "text": [
            " 100 m²\n",
            " 3 quarto(s)\n",
            " 2 banheiro(s)\n",
            " 2 vaga(s)\n",
            "-------------\n",
            " 60 m²\n",
            " 2 quarto(s)\n",
            " 2 banheiro(s)\n",
            " 1 vaga(s)\n",
            "-------------\n",
            " 50 m²\n",
            " 1 quarto(s)\n",
            " 1 banheiro(s)\n",
            " 1 vaga(s)\n",
            "-------------\n",
            " 60 m²\n",
            " 2 quarto(s)\n",
            " 2 banheiro(s)\n",
            " 1 vaga(s)\n",
            "-------------\n",
            " 120 m²\n",
            " 4 quarto(s)\n",
            " 3 banheiro(s)\n",
            " 2 vaga(s)\n",
            "-------------\n"
          ],
          "name": "stdout"
        }
      ]
    },
    {
      "cell_type": "code",
      "metadata": {
        "colab": {
          "base_uri": "https://localhost:8080/"
        },
        "id": "dnwUgVmOWgVI",
        "outputId": "bcdbb934-d4b0-4e16-fdf3-28e47fe23a45"
      },
      "source": [
        "for resultado in soup_busca.find('div', {'class': 'ad-card-list'}).find_all('div', {'class': 'ad-card'}):\r\n",
        "    caracteristicas = resultado.find('ul', {'class': 'features'})\r\n",
        "    recursos = resultado.find('ul', {'class': 'resources'})\r\n",
        "    \r\n",
        "    for caract in caracteristicas.find_all('li'):\r\n",
        "        print(caract.get_text())\r\n",
        "        \r\n",
        "    for recur in recursos.find_all('li'):\r\n",
        "        print(recur.get_text())\r\n",
        "        \r\n",
        "    print('-------------')"
      ],
      "execution_count": 31,
      "outputs": [
        {
          "output_type": "stream",
          "text": [
            " 100 m²\n",
            " 3 quarto(s)\n",
            " 2 banheiro(s)\n",
            " 2 vaga(s)\n",
            "Mobiliado\n",
            "Portaria 24h\n",
            "Elevador\n",
            "Piscina\n",
            "Churrasqueira\n",
            "Salão de Festas\n",
            "Academia\n",
            "Playground\n",
            "Quadra poliesportiva\n",
            "Salão de jogos\n",
            "Aceita animais\n",
            "-------------\n",
            " 60 m²\n",
            " 2 quarto(s)\n",
            " 2 banheiro(s)\n",
            " 1 vaga(s)\n",
            "Mobiliado\n",
            "Portaria 24h\n",
            "Salão de Festas\n",
            "Quadra poliesportiva\n",
            "-------------\n",
            " 50 m²\n",
            " 1 quarto(s)\n",
            " 1 banheiro(s)\n",
            " 1 vaga(s)\n",
            "Mobiliado\n",
            "-------------\n",
            " 60 m²\n",
            " 2 quarto(s)\n",
            " 2 banheiro(s)\n",
            " 1 vaga(s)\n",
            "Mobiliado\n",
            "Portaria 24h\n",
            "-------------\n",
            " 120 m²\n",
            " 4 quarto(s)\n",
            " 3 banheiro(s)\n",
            " 2 vaga(s)\n",
            "Mobiliado\n",
            "Portaria 24h\n",
            "Elevador\n",
            "Piscina\n",
            "Churrasqueira\n",
            "Salão de Festas\n",
            "Academia\n",
            "Playground\n",
            "Quadra poliesportiva\n",
            "Salão de jogos\n",
            "Aceita animais\n",
            "-------------\n"
          ],
          "name": "stdout"
        }
      ]
    },
    {
      "cell_type": "code",
      "metadata": {
        "colab": {
          "base_uri": "https://localhost:8080/"
        },
        "id": "I5CWLDvLWlLg",
        "outputId": "2e0eb8e5-4337-4ccd-8eda-a9513f1159d2"
      },
      "source": [
        "for resultado in soup_busca.find('div', {'class': 'ad-card-list'}).find_all('div', {'class': 'ad-card'}):\r\n",
        "    caracteristicas = resultado.find('ul', {'class': 'features'})\r\n",
        "    recursos = resultado.find('ul', {'class': 'resources'})\r\n",
        "    precos_corretora = resultado.find('div', {'class': 'ad-card-price'})\r\n",
        "    \r\n",
        "    for caract in caracteristicas.find_all('li'):\r\n",
        "        print(caract.get_text())\r\n",
        "        \r\n",
        "    for recur in recursos.find_all('li'):\r\n",
        "        print(recur.get_text())\r\n",
        "        \r\n",
        "    for prec_corr in precos_corretora.find_all('p'):\r\n",
        "        print(prec_corr.get_text())\r\n",
        "    \r\n",
        "    print('-------------')"
      ],
      "execution_count": 34,
      "outputs": [
        {
          "output_type": "stream",
          "text": [
            " 100 m²\n",
            " 3 quarto(s)\n",
            " 2 banheiro(s)\n",
            " 2 vaga(s)\n",
            "Mobiliado\n",
            "Portaria 24h\n",
            "Elevador\n",
            "Piscina\n",
            "Churrasqueira\n",
            "Salão de Festas\n",
            "Academia\n",
            "Playground\n",
            "Quadra poliesportiva\n",
            "Salão de jogos\n",
            "Aceita animais\n",
            "Aluguel: R$ 4.000,00\n",
            "Condomínio: 500,00\n",
            "IPTU: R$ 100,00\n",
            "Corretora: Tubarão\n",
            "-------------\n",
            " 60 m²\n",
            " 2 quarto(s)\n",
            " 2 banheiro(s)\n",
            " 1 vaga(s)\n",
            "Mobiliado\n",
            "Portaria 24h\n",
            "Salão de Festas\n",
            "Quadra poliesportiva\n",
            "Aluguel: R$ 2.000,00\n",
            "Condomínio: 200,00\n",
            "IPTU: R$ 50,00\n",
            "Corretora: Carangueijo\n",
            "-------------\n",
            " 50 m²\n",
            " 1 quarto(s)\n",
            " 1 banheiro(s)\n",
            " 1 vaga(s)\n",
            "Mobiliado\n",
            "Aluguel: R$ 1.300,00\n",
            "Condomínio: 200,00\n",
            "IPTU: R$ 50,00\n",
            "Corretora: Baleia Azul\n",
            "-------------\n",
            " 60 m²\n",
            " 2 quarto(s)\n",
            " 2 banheiro(s)\n",
            " 1 vaga(s)\n",
            "Mobiliado\n",
            "Portaria 24h\n",
            "Aluguel: R$ 1.800,00\n",
            "Condomínio: 100,00\n",
            "IPTU: R$ 20,00\n",
            "Corretora: Baleia Azul\n",
            "-------------\n",
            " 120 m²\n",
            " 4 quarto(s)\n",
            " 3 banheiro(s)\n",
            " 2 vaga(s)\n",
            "Mobiliado\n",
            "Portaria 24h\n",
            "Elevador\n",
            "Piscina\n",
            "Churrasqueira\n",
            "Salão de Festas\n",
            "Academia\n",
            "Playground\n",
            "Quadra poliesportiva\n",
            "Salão de jogos\n",
            "Aceita animais\n",
            "Aluguel: R$ 3.800,00\n",
            "Condomínio: 500,00\n",
            "IPTU: R$ 200,00\n",
            "Corretora: Tubarão\n",
            "-------------\n"
          ],
          "name": "stdout"
        }
      ]
    },
    {
      "cell_type": "code",
      "metadata": {
        "colab": {
          "base_uri": "https://localhost:8080/"
        },
        "id": "4kRbhJFxWq84",
        "outputId": "c17ac2c3-0626-4e74-b628-6ce9141ad1f5"
      },
      "source": [
        "for resultado in soup_busca.find('div', {'class': 'ad-card-list'}).find_all('div', {'class': 'ad-card'}):\r\n",
        "    caracteristicas = resultado.find('ul', {'class': 'features'})\r\n",
        "    recursos = resultado.find('ul', {'class': 'resources'})\r\n",
        "    precos_corretora = resultado.find('div', {'class': 'ad-card-price'})\r\n",
        "    localizacao = resultado.find('div', {'class': 'ad-card-info'}).find('p')\r\n",
        "    \r\n",
        "    for caract in caracteristicas.find_all('li'):\r\n",
        "        print(caract.get_text())\r\n",
        "        \r\n",
        "    for recur in recursos.find_all('li'):\r\n",
        "        print(recur.get_text())\r\n",
        "        \r\n",
        "    for prec_corr in precos_corretora.find_all('p'):\r\n",
        "        print(prec_corr.get_text())\r\n",
        "    \r\n",
        "    print(localizacao.get_text())    \r\n",
        "    print('-------------')"
      ],
      "execution_count": 39,
      "outputs": [
        {
          "output_type": "stream",
          "text": [
            " 100 m²\n",
            " 3 quarto(s)\n",
            " 2 banheiro(s)\n",
            " 2 vaga(s)\n",
            "Mobiliado\n",
            "Portaria 24h\n",
            "Elevador\n",
            "Piscina\n",
            "Churrasqueira\n",
            "Salão de Festas\n",
            "Academia\n",
            "Playground\n",
            "Quadra poliesportiva\n",
            "Salão de jogos\n",
            "Aceita animais\n",
            "Aluguel: R$ 4.000,00\n",
            "Condomínio: 500,00\n",
            "IPTU: R$ 100,00\n",
            "Corretora: Tubarão\n",
            "Localização: Oceano Pacífico\n",
            "-------------\n",
            " 60 m²\n",
            " 2 quarto(s)\n",
            " 2 banheiro(s)\n",
            " 1 vaga(s)\n",
            "Mobiliado\n",
            "Portaria 24h\n",
            "Salão de Festas\n",
            "Quadra poliesportiva\n",
            "Aluguel: R$ 2.000,00\n",
            "Condomínio: 200,00\n",
            "IPTU: R$ 50,00\n",
            "Corretora: Carangueijo\n",
            "Localização: Oceano Índico\n",
            "-------------\n",
            " 50 m²\n",
            " 1 quarto(s)\n",
            " 1 banheiro(s)\n",
            " 1 vaga(s)\n",
            "Mobiliado\n",
            "Aluguel: R$ 1.300,00\n",
            "Condomínio: 200,00\n",
            "IPTU: R$ 50,00\n",
            "Corretora: Baleia Azul\n",
            "Localização: Mar de Java\n",
            "-------------\n",
            " 60 m²\n",
            " 2 quarto(s)\n",
            " 2 banheiro(s)\n",
            " 1 vaga(s)\n",
            "Mobiliado\n",
            "Portaria 24h\n",
            "Aluguel: R$ 1.800,00\n",
            "Condomínio: 100,00\n",
            "IPTU: R$ 20,00\n",
            "Corretora: Baleia Azul\n",
            "Localização: Oceano Índico\n",
            "-------------\n",
            " 120 m²\n",
            " 4 quarto(s)\n",
            " 3 banheiro(s)\n",
            " 2 vaga(s)\n",
            "Mobiliado\n",
            "Portaria 24h\n",
            "Elevador\n",
            "Piscina\n",
            "Churrasqueira\n",
            "Salão de Festas\n",
            "Academia\n",
            "Playground\n",
            "Quadra poliesportiva\n",
            "Salão de jogos\n",
            "Aceita animais\n",
            "Aluguel: R$ 3.800,00\n",
            "Condomínio: 500,00\n",
            "IPTU: R$ 200,00\n",
            "Corretora: Tubarão\n",
            "Localização: Oceano Pacífico\n",
            "-------------\n"
          ],
          "name": "stdout"
        }
      ]
    },
    {
      "cell_type": "markdown",
      "metadata": {
        "id": "-iIo6JPKYrCW"
      },
      "source": [
        "Organizando dados coletados em lista"
      ]
    },
    {
      "cell_type": "code",
      "metadata": {
        "id": "eSOQE2JRW2NB"
      },
      "source": [
        "resultados_lista = []"
      ],
      "execution_count": 49,
      "outputs": []
    },
    {
      "cell_type": "code",
      "metadata": {
        "id": "vU2gXqxYdS8S"
      },
      "source": [
        "for resultado in soup_busca.find('div', {'class': 'ad-card-list'}).find_all('div', {'class': 'ad-card'}):\r\n",
        "    caracteristicas = resultado.find('ul', {'class': 'features'})\r\n",
        "    recursos = resultado.find('ul', {'class': 'resources'})\r\n",
        "    precos_corretora = resultado.find('div', {'class': 'ad-card-price'})\r\n",
        "    localizacao = resultado.find('div', {'class': 'ad-card-info'}).find('p')\r\n",
        "    \r\n",
        "    resultado_dict = {}\r\n",
        "    \r\n",
        "    resultado_dict['área'] = caracteristicas.find_all('li')[0].get_text()\r\n",
        "    resultado_dict['quartos'] = caracteristicas.find_all('li')[1].get_text()\r\n",
        "    resultado_dict['banheiros'] = caracteristicas.find_all('li')[2].get_text()\r\n",
        "    resultado_dict['vagas garagem'] = caracteristicas.find_all('li')[3].get_text()\r\n",
        "    \r\n",
        "    for recur in recursos.find_all('li'):\r\n",
        "        resultado_dict[recur.get_text().lower()] = 'sim'\r\n",
        "        \r\n",
        "    resultado_dict['aluguel'] = precos_corretora.find_all('p')[0].get_text()\r\n",
        "    resultado_dict['condomínio'] = precos_corretora.find_all('p')[1].get_text()\r\n",
        "    resultado_dict['iptu'] = precos_corretora.find_all('p')[2].get_text()\r\n",
        "    resultado_dict['corretora'] = precos_corretora.find_all('p')[3].get_text()\r\n",
        "    \r\n",
        "    resultado_dict['localizacao'] = localizacao.get_text()\r\n",
        "    \r\n",
        "    resultados_lista.append(resultado_dict)"
      ],
      "execution_count": 50,
      "outputs": []
    },
    {
      "cell_type": "code",
      "metadata": {
        "colab": {
          "base_uri": "https://localhost:8080/"
        },
        "id": "AUAUvNfndjO0",
        "outputId": "fb77149a-46cc-44a6-95da-70944b5ef48b"
      },
      "source": [
        "resultados_lista"
      ],
      "execution_count": 51,
      "outputs": [
        {
          "output_type": "execute_result",
          "data": {
            "text/plain": [
              "[{'academia': 'sim',\n",
              "  'aceita animais': 'sim',\n",
              "  'aluguel': 'Aluguel: R$ 4.000,00',\n",
              "  'banheiros': ' 2 banheiro(s)',\n",
              "  'churrasqueira': 'sim',\n",
              "  'condomínio': 'Condomínio: 500,00',\n",
              "  'corretora': 'Corretora: Tubarão',\n",
              "  'elevador': 'sim',\n",
              "  'iptu': 'IPTU: R$ 100,00',\n",
              "  'localizacao': 'Localização: Oceano Pacífico',\n",
              "  'mobiliado': 'sim',\n",
              "  'piscina': 'sim',\n",
              "  'playground': 'sim',\n",
              "  'portaria 24h': 'sim',\n",
              "  'quadra poliesportiva': 'sim',\n",
              "  'quartos': ' 3 quarto(s)',\n",
              "  'salão de festas': 'sim',\n",
              "  'salão de jogos': 'sim',\n",
              "  'vagas garagem': ' 2 vaga(s)',\n",
              "  'área': ' 100 m²'},\n",
              " {'aluguel': 'Aluguel: R$ 2.000,00',\n",
              "  'banheiros': ' 2 banheiro(s)',\n",
              "  'condomínio': 'Condomínio: 200,00',\n",
              "  'corretora': 'Corretora: Carangueijo',\n",
              "  'iptu': 'IPTU: R$ 50,00',\n",
              "  'localizacao': 'Localização: Oceano Índico',\n",
              "  'mobiliado': 'sim',\n",
              "  'portaria 24h': 'sim',\n",
              "  'quadra poliesportiva': 'sim',\n",
              "  'quartos': ' 2 quarto(s)',\n",
              "  'salão de festas': 'sim',\n",
              "  'vagas garagem': ' 1 vaga(s)',\n",
              "  'área': ' 60 m²'},\n",
              " {'aluguel': 'Aluguel: R$ 1.300,00',\n",
              "  'banheiros': ' 1 banheiro(s)',\n",
              "  'condomínio': 'Condomínio: 200,00',\n",
              "  'corretora': 'Corretora: Baleia Azul',\n",
              "  'iptu': 'IPTU: R$ 50,00',\n",
              "  'localizacao': 'Localização: Mar de Java',\n",
              "  'mobiliado': 'sim',\n",
              "  'quartos': ' 1 quarto(s)',\n",
              "  'vagas garagem': ' 1 vaga(s)',\n",
              "  'área': ' 50 m²'},\n",
              " {'aluguel': 'Aluguel: R$ 1.800,00',\n",
              "  'banheiros': ' 2 banheiro(s)',\n",
              "  'condomínio': 'Condomínio: 100,00',\n",
              "  'corretora': 'Corretora: Baleia Azul',\n",
              "  'iptu': 'IPTU: R$ 20,00',\n",
              "  'localizacao': 'Localização: Oceano Índico',\n",
              "  'mobiliado': 'sim',\n",
              "  'portaria 24h': 'sim',\n",
              "  'quartos': ' 2 quarto(s)',\n",
              "  'vagas garagem': ' 1 vaga(s)',\n",
              "  'área': ' 60 m²'},\n",
              " {'academia': 'sim',\n",
              "  'aceita animais': 'sim',\n",
              "  'aluguel': 'Aluguel: R$ 3.800,00',\n",
              "  'banheiros': ' 3 banheiro(s)',\n",
              "  'churrasqueira': 'sim',\n",
              "  'condomínio': 'Condomínio: 500,00',\n",
              "  'corretora': 'Corretora: Tubarão',\n",
              "  'elevador': 'sim',\n",
              "  'iptu': 'IPTU: R$ 200,00',\n",
              "  'localizacao': 'Localização: Oceano Pacífico',\n",
              "  'mobiliado': 'sim',\n",
              "  'piscina': 'sim',\n",
              "  'playground': 'sim',\n",
              "  'portaria 24h': 'sim',\n",
              "  'quadra poliesportiva': 'sim',\n",
              "  'quartos': ' 4 quarto(s)',\n",
              "  'salão de festas': 'sim',\n",
              "  'salão de jogos': 'sim',\n",
              "  'vagas garagem': ' 2 vaga(s)',\n",
              "  'área': ' 120 m²'}]"
            ]
          },
          "metadata": {
            "tags": []
          },
          "execution_count": 51
        }
      ]
    },
    {
      "cell_type": "code",
      "metadata": {
        "id": "Dc3IdC9xdnKd"
      },
      "source": [
        "resultados_df = pd.DataFrame(resutados_lista)"
      ],
      "execution_count": 52,
      "outputs": []
    },
    {
      "cell_type": "code",
      "metadata": {
        "colab": {
          "base_uri": "https://localhost:8080/",
          "height": 428
        },
        "id": "jxB2DNApe48s",
        "outputId": "7191cca5-9bf9-47e4-dfb6-2bd59b29fccb"
      },
      "source": [
        "resultados_df"
      ],
      "execution_count": 53,
      "outputs": [
        {
          "output_type": "execute_result",
          "data": {
            "text/html": [
              "<div>\n",
              "<style scoped>\n",
              "    .dataframe tbody tr th:only-of-type {\n",
              "        vertical-align: middle;\n",
              "    }\n",
              "\n",
              "    .dataframe tbody tr th {\n",
              "        vertical-align: top;\n",
              "    }\n",
              "\n",
              "    .dataframe thead th {\n",
              "        text-align: right;\n",
              "    }\n",
              "</style>\n",
              "<table border=\"1\" class=\"dataframe\">\n",
              "  <thead>\n",
              "    <tr style=\"text-align: right;\">\n",
              "      <th></th>\n",
              "      <th>área</th>\n",
              "      <th>quartos</th>\n",
              "      <th>banheiros</th>\n",
              "      <th>vagas garagem</th>\n",
              "      <th>mobiliado</th>\n",
              "      <th>portaria 24h</th>\n",
              "      <th>elevador</th>\n",
              "      <th>piscina</th>\n",
              "      <th>churrasqueira</th>\n",
              "      <th>salão de festas</th>\n",
              "      <th>academia</th>\n",
              "      <th>playground</th>\n",
              "      <th>quadra poliesportiva</th>\n",
              "      <th>salão de jogos</th>\n",
              "      <th>aceita animais</th>\n",
              "      <th>aluguel</th>\n",
              "      <th>condomínio</th>\n",
              "      <th>iptu</th>\n",
              "      <th>corretora</th>\n",
              "      <th>localizacao</th>\n",
              "    </tr>\n",
              "  </thead>\n",
              "  <tbody>\n",
              "    <tr>\n",
              "      <th>0</th>\n",
              "      <td>100 m²</td>\n",
              "      <td>3 quarto(s)</td>\n",
              "      <td>2 banheiro(s)</td>\n",
              "      <td>2 vaga(s)</td>\n",
              "      <td>sim</td>\n",
              "      <td>sim</td>\n",
              "      <td>sim</td>\n",
              "      <td>sim</td>\n",
              "      <td>sim</td>\n",
              "      <td>sim</td>\n",
              "      <td>sim</td>\n",
              "      <td>sim</td>\n",
              "      <td>sim</td>\n",
              "      <td>sim</td>\n",
              "      <td>sim</td>\n",
              "      <td>Aluguel: R$ 4.000,00</td>\n",
              "      <td>Condomínio: 500,00</td>\n",
              "      <td>IPTU: R$ 100,00</td>\n",
              "      <td>Corretora: Tubarão</td>\n",
              "      <td>Localização: Oceano Pacífico</td>\n",
              "    </tr>\n",
              "    <tr>\n",
              "      <th>1</th>\n",
              "      <td>60 m²</td>\n",
              "      <td>2 quarto(s)</td>\n",
              "      <td>2 banheiro(s)</td>\n",
              "      <td>1 vaga(s)</td>\n",
              "      <td>sim</td>\n",
              "      <td>sim</td>\n",
              "      <td>NaN</td>\n",
              "      <td>NaN</td>\n",
              "      <td>NaN</td>\n",
              "      <td>sim</td>\n",
              "      <td>NaN</td>\n",
              "      <td>NaN</td>\n",
              "      <td>sim</td>\n",
              "      <td>NaN</td>\n",
              "      <td>NaN</td>\n",
              "      <td>Aluguel: R$ 2.000,00</td>\n",
              "      <td>Condomínio: 200,00</td>\n",
              "      <td>IPTU: R$ 50,00</td>\n",
              "      <td>Corretora: Carangueijo</td>\n",
              "      <td>Localização: Oceano Índico</td>\n",
              "    </tr>\n",
              "    <tr>\n",
              "      <th>2</th>\n",
              "      <td>50 m²</td>\n",
              "      <td>1 quarto(s)</td>\n",
              "      <td>1 banheiro(s)</td>\n",
              "      <td>1 vaga(s)</td>\n",
              "      <td>sim</td>\n",
              "      <td>NaN</td>\n",
              "      <td>NaN</td>\n",
              "      <td>NaN</td>\n",
              "      <td>NaN</td>\n",
              "      <td>NaN</td>\n",
              "      <td>NaN</td>\n",
              "      <td>NaN</td>\n",
              "      <td>NaN</td>\n",
              "      <td>NaN</td>\n",
              "      <td>NaN</td>\n",
              "      <td>Aluguel: R$ 1.300,00</td>\n",
              "      <td>Condomínio: 200,00</td>\n",
              "      <td>IPTU: R$ 50,00</td>\n",
              "      <td>Corretora: Baleia Azul</td>\n",
              "      <td>Localização: Mar de Java</td>\n",
              "    </tr>\n",
              "    <tr>\n",
              "      <th>3</th>\n",
              "      <td>60 m²</td>\n",
              "      <td>2 quarto(s)</td>\n",
              "      <td>2 banheiro(s)</td>\n",
              "      <td>1 vaga(s)</td>\n",
              "      <td>sim</td>\n",
              "      <td>sim</td>\n",
              "      <td>NaN</td>\n",
              "      <td>NaN</td>\n",
              "      <td>NaN</td>\n",
              "      <td>NaN</td>\n",
              "      <td>NaN</td>\n",
              "      <td>NaN</td>\n",
              "      <td>NaN</td>\n",
              "      <td>NaN</td>\n",
              "      <td>NaN</td>\n",
              "      <td>Aluguel: R$ 1.800,00</td>\n",
              "      <td>Condomínio: 100,00</td>\n",
              "      <td>IPTU: R$ 20,00</td>\n",
              "      <td>Corretora: Baleia Azul</td>\n",
              "      <td>Localização: Oceano Índico</td>\n",
              "    </tr>\n",
              "    <tr>\n",
              "      <th>4</th>\n",
              "      <td>120 m²</td>\n",
              "      <td>4 quarto(s)</td>\n",
              "      <td>3 banheiro(s)</td>\n",
              "      <td>2 vaga(s)</td>\n",
              "      <td>sim</td>\n",
              "      <td>sim</td>\n",
              "      <td>sim</td>\n",
              "      <td>sim</td>\n",
              "      <td>sim</td>\n",
              "      <td>sim</td>\n",
              "      <td>sim</td>\n",
              "      <td>sim</td>\n",
              "      <td>sim</td>\n",
              "      <td>sim</td>\n",
              "      <td>sim</td>\n",
              "      <td>Aluguel: R$ 3.800,00</td>\n",
              "      <td>Condomínio: 500,00</td>\n",
              "      <td>IPTU: R$ 200,00</td>\n",
              "      <td>Corretora: Tubarão</td>\n",
              "      <td>Localização: Oceano Pacífico</td>\n",
              "    </tr>\n",
              "  </tbody>\n",
              "</table>\n",
              "</div>"
            ],
            "text/plain": [
              "      área       quartos  ...               corretora                   localizacao\n",
              "0   100 m²   3 quarto(s)  ...      Corretora: Tubarão  Localização: Oceano Pacífico\n",
              "1    60 m²   2 quarto(s)  ...  Corretora: Carangueijo    Localização: Oceano Índico\n",
              "2    50 m²   1 quarto(s)  ...  Corretora: Baleia Azul      Localização: Mar de Java\n",
              "3    60 m²   2 quarto(s)  ...  Corretora: Baleia Azul    Localização: Oceano Índico\n",
              "4   120 m²   4 quarto(s)  ...      Corretora: Tubarão  Localização: Oceano Pacífico\n",
              "\n",
              "[5 rows x 20 columns]"
            ]
          },
          "metadata": {
            "tags": []
          },
          "execution_count": 53
        }
      ]
    },
    {
      "cell_type": "code",
      "metadata": {
        "colab": {
          "base_uri": "https://localhost:8080/"
        },
        "id": "JEJJxLKHe7G7",
        "outputId": "919df7b9-3378-48e0-e4f2-cb9bc4e81c20"
      },
      "source": [
        "resultados_df.dtypes"
      ],
      "execution_count": 54,
      "outputs": [
        {
          "output_type": "execute_result",
          "data": {
            "text/plain": [
              "área                    object\n",
              "quartos                 object\n",
              "banheiros               object\n",
              "vagas garagem           object\n",
              "mobiliado               object\n",
              "portaria 24h            object\n",
              "elevador                object\n",
              "piscina                 object\n",
              "churrasqueira           object\n",
              "salão de festas         object\n",
              "academia                object\n",
              "playground              object\n",
              "quadra poliesportiva    object\n",
              "salão de jogos          object\n",
              "aceita animais          object\n",
              "aluguel                 object\n",
              "condomínio              object\n",
              "iptu                    object\n",
              "corretora               object\n",
              "localizacao             object\n",
              "dtype: object"
            ]
          },
          "metadata": {
            "tags": []
          },
          "execution_count": 54
        }
      ]
    },
    {
      "cell_type": "markdown",
      "metadata": {
        "id": "vh6ZuvRsfH0Y"
      },
      "source": [
        "Coletando dados tratados"
      ]
    },
    {
      "cell_type": "code",
      "metadata": {
        "id": "XYrVZgCmfRvL"
      },
      "source": [
        "resultados_lista = []"
      ],
      "execution_count": 63,
      "outputs": []
    },
    {
      "cell_type": "code",
      "metadata": {
        "id": "OCqh2MtZe-yf"
      },
      "source": [
        "for resultado in soup_busca.find('div', {'class': 'ad-card-list'}).find_all('div', {'class': 'ad-card'}):\r\n",
        "    caracteristicas = resultado.find('ul', {'class': 'features'})\r\n",
        "    recursos = resultado.find('ul', {'class': 'resources'})\r\n",
        "    precos_corretora = resultado.find('div', {'class': 'ad-card-price'})\r\n",
        "    localizacao = resultado.find('div', {'class': 'ad-card-info'}).find('p')\r\n",
        "    \r\n",
        "    resultado_dict = {}\r\n",
        "\r\n",
        "    resultado_dict['área'] = int(caracteristicas.find_all('li')[0].get_text().replace(' ','').replace('m²',''))\r\n",
        "    resultado_dict['quartos'] = int(caracteristicas.find_all('li')[1].get_text().replace(' ','').replace('quarto(s)',''))\r\n",
        "    resultado_dict['banheiros'] = int(caracteristicas.find_all('li')[2].get_text().replace(' ','').replace('banheiro(s)',''))\r\n",
        "    resultado_dict['vagas garagem'] = int(caracteristicas.find_all('li')[3].get_text().replace(' ','').replace('vaga(s)',''))\r\n",
        "    \r\n",
        "    for recur in recursos.find_all('li'):\r\n",
        "        resultado_dict[recur.get_text().lower()] = '1'\r\n",
        "        \r\n",
        "    resultado_dict['aluguel'] = float(precos_corretora.find_all('p')[0].get_text().replace('Aluguel: R$ ','').replace('.','').replace(',','.'))\r\n",
        "    resultado_dict['condomínio'] = float(precos_corretora.find_all('p')[1].get_text().replace('Condomínio: ','').replace('.','').replace(',','.'))\r\n",
        "    resultado_dict['iptu'] = float(precos_corretora.find_all('p')[2].get_text().replace('IPTU: R$ ','').replace('.','').replace(',','.'))\r\n",
        "    \r\n",
        "    resultado_dict['corretora'] = precos_corretora.find_all('p')[3].get_text().replace('Corretora: ','')\r\n",
        "    \r\n",
        "    resultado_dict['localizacao'] = localizacao.get_text().replace('Localização: ','')\r\n",
        "    \r\n",
        "    resultados_lista.append(resultado_dict)"
      ],
      "execution_count": 64,
      "outputs": []
    },
    {
      "cell_type": "code",
      "metadata": {
        "colab": {
          "base_uri": "https://localhost:8080/",
          "height": 326
        },
        "id": "v-Li7roAf_I2",
        "outputId": "cc63bf6f-e86e-4663-c5c6-d81c6d8e415a"
      },
      "source": [
        "resultados_df = pd.DataFrame(resultados_lista)\r\n",
        "resultados_df"
      ],
      "execution_count": 65,
      "outputs": [
        {
          "output_type": "execute_result",
          "data": {
            "text/html": [
              "<div>\n",
              "<style scoped>\n",
              "    .dataframe tbody tr th:only-of-type {\n",
              "        vertical-align: middle;\n",
              "    }\n",
              "\n",
              "    .dataframe tbody tr th {\n",
              "        vertical-align: top;\n",
              "    }\n",
              "\n",
              "    .dataframe thead th {\n",
              "        text-align: right;\n",
              "    }\n",
              "</style>\n",
              "<table border=\"1\" class=\"dataframe\">\n",
              "  <thead>\n",
              "    <tr style=\"text-align: right;\">\n",
              "      <th></th>\n",
              "      <th>área</th>\n",
              "      <th>quartos</th>\n",
              "      <th>banheiros</th>\n",
              "      <th>vagas garagem</th>\n",
              "      <th>mobiliado</th>\n",
              "      <th>portaria 24h</th>\n",
              "      <th>elevador</th>\n",
              "      <th>piscina</th>\n",
              "      <th>churrasqueira</th>\n",
              "      <th>salão de festas</th>\n",
              "      <th>academia</th>\n",
              "      <th>playground</th>\n",
              "      <th>quadra poliesportiva</th>\n",
              "      <th>salão de jogos</th>\n",
              "      <th>aceita animais</th>\n",
              "      <th>aluguel</th>\n",
              "      <th>condomínio</th>\n",
              "      <th>iptu</th>\n",
              "      <th>corretora</th>\n",
              "      <th>localizacao</th>\n",
              "    </tr>\n",
              "  </thead>\n",
              "  <tbody>\n",
              "    <tr>\n",
              "      <th>0</th>\n",
              "      <td>100</td>\n",
              "      <td>3</td>\n",
              "      <td>2</td>\n",
              "      <td>2</td>\n",
              "      <td>1</td>\n",
              "      <td>1</td>\n",
              "      <td>1</td>\n",
              "      <td>1</td>\n",
              "      <td>1</td>\n",
              "      <td>1</td>\n",
              "      <td>1</td>\n",
              "      <td>1</td>\n",
              "      <td>1</td>\n",
              "      <td>1</td>\n",
              "      <td>1</td>\n",
              "      <td>4000.0</td>\n",
              "      <td>500.0</td>\n",
              "      <td>100.0</td>\n",
              "      <td>Tubarão</td>\n",
              "      <td>Oceano Pacífico</td>\n",
              "    </tr>\n",
              "    <tr>\n",
              "      <th>1</th>\n",
              "      <td>60</td>\n",
              "      <td>2</td>\n",
              "      <td>2</td>\n",
              "      <td>1</td>\n",
              "      <td>1</td>\n",
              "      <td>1</td>\n",
              "      <td>NaN</td>\n",
              "      <td>NaN</td>\n",
              "      <td>NaN</td>\n",
              "      <td>1</td>\n",
              "      <td>NaN</td>\n",
              "      <td>NaN</td>\n",
              "      <td>1</td>\n",
              "      <td>NaN</td>\n",
              "      <td>NaN</td>\n",
              "      <td>2000.0</td>\n",
              "      <td>200.0</td>\n",
              "      <td>50.0</td>\n",
              "      <td>Carangueijo</td>\n",
              "      <td>Oceano Índico</td>\n",
              "    </tr>\n",
              "    <tr>\n",
              "      <th>2</th>\n",
              "      <td>50</td>\n",
              "      <td>1</td>\n",
              "      <td>1</td>\n",
              "      <td>1</td>\n",
              "      <td>1</td>\n",
              "      <td>NaN</td>\n",
              "      <td>NaN</td>\n",
              "      <td>NaN</td>\n",
              "      <td>NaN</td>\n",
              "      <td>NaN</td>\n",
              "      <td>NaN</td>\n",
              "      <td>NaN</td>\n",
              "      <td>NaN</td>\n",
              "      <td>NaN</td>\n",
              "      <td>NaN</td>\n",
              "      <td>1300.0</td>\n",
              "      <td>200.0</td>\n",
              "      <td>50.0</td>\n",
              "      <td>Baleia Azul</td>\n",
              "      <td>Mar de Java</td>\n",
              "    </tr>\n",
              "    <tr>\n",
              "      <th>3</th>\n",
              "      <td>60</td>\n",
              "      <td>2</td>\n",
              "      <td>2</td>\n",
              "      <td>1</td>\n",
              "      <td>1</td>\n",
              "      <td>1</td>\n",
              "      <td>NaN</td>\n",
              "      <td>NaN</td>\n",
              "      <td>NaN</td>\n",
              "      <td>NaN</td>\n",
              "      <td>NaN</td>\n",
              "      <td>NaN</td>\n",
              "      <td>NaN</td>\n",
              "      <td>NaN</td>\n",
              "      <td>NaN</td>\n",
              "      <td>1800.0</td>\n",
              "      <td>100.0</td>\n",
              "      <td>20.0</td>\n",
              "      <td>Baleia Azul</td>\n",
              "      <td>Oceano Índico</td>\n",
              "    </tr>\n",
              "    <tr>\n",
              "      <th>4</th>\n",
              "      <td>120</td>\n",
              "      <td>4</td>\n",
              "      <td>3</td>\n",
              "      <td>2</td>\n",
              "      <td>1</td>\n",
              "      <td>1</td>\n",
              "      <td>1</td>\n",
              "      <td>1</td>\n",
              "      <td>1</td>\n",
              "      <td>1</td>\n",
              "      <td>1</td>\n",
              "      <td>1</td>\n",
              "      <td>1</td>\n",
              "      <td>1</td>\n",
              "      <td>1</td>\n",
              "      <td>3800.0</td>\n",
              "      <td>500.0</td>\n",
              "      <td>200.0</td>\n",
              "      <td>Tubarão</td>\n",
              "      <td>Oceano Pacífico</td>\n",
              "    </tr>\n",
              "  </tbody>\n",
              "</table>\n",
              "</div>"
            ],
            "text/plain": [
              "   área  quartos  banheiros  ...   iptu    corretora      localizacao\n",
              "0   100        3          2  ...  100.0      Tubarão  Oceano Pacífico\n",
              "1    60        2          2  ...   50.0  Carangueijo    Oceano Índico\n",
              "2    50        1          1  ...   50.0  Baleia Azul      Mar de Java\n",
              "3    60        2          2  ...   20.0  Baleia Azul    Oceano Índico\n",
              "4   120        4          3  ...  200.0      Tubarão  Oceano Pacífico\n",
              "\n",
              "[5 rows x 20 columns]"
            ]
          },
          "metadata": {
            "tags": []
          },
          "execution_count": 65
        }
      ]
    },
    {
      "cell_type": "code",
      "metadata": {
        "colab": {
          "base_uri": "https://localhost:8080/"
        },
        "id": "TEFDVBHUgIzy",
        "outputId": "5538c113-2d60-4509-cee3-698f905278ca"
      },
      "source": [
        "resultados_df.dtypes"
      ],
      "execution_count": 66,
      "outputs": [
        {
          "output_type": "execute_result",
          "data": {
            "text/plain": [
              "área                      int64\n",
              "quartos                   int64\n",
              "banheiros                 int64\n",
              "vagas garagem             int64\n",
              "mobiliado                object\n",
              "portaria 24h             object\n",
              "elevador                 object\n",
              "piscina                  object\n",
              "churrasqueira            object\n",
              "salão de festas          object\n",
              "academia                 object\n",
              "playground               object\n",
              "quadra poliesportiva     object\n",
              "salão de jogos           object\n",
              "aceita animais           object\n",
              "aluguel                 float64\n",
              "condomínio              float64\n",
              "iptu                    float64\n",
              "corretora                object\n",
              "localizacao              object\n",
              "dtype: object"
            ]
          },
          "metadata": {
            "tags": []
          },
          "execution_count": 66
        }
      ]
    },
    {
      "cell_type": "code",
      "metadata": {
        "colab": {
          "base_uri": "https://localhost:8080/",
          "height": 326
        },
        "id": "_efzMwLXgPOU",
        "outputId": "045fe354-867e-4162-b2ac-3307dee92634"
      },
      "source": [
        "resultados_df = resultados_df.fillna(value='0')\r\n",
        "resultados_df\r\n",
        "#para as colunas: 'mobiliado', 'portaria 24h', 'elevador', 'piscina',\r\n",
        "#'churrasqueira', 'salão de festas', 'academia', 'playground',\r\n",
        "#'quadra poliesportiva', 'salão de jogos', 'aceita animais' os númeors 0 e 1 não\r\n",
        "#significam quantidade, mas sim ou não respectivamente"
      ],
      "execution_count": 71,
      "outputs": [
        {
          "output_type": "execute_result",
          "data": {
            "text/html": [
              "<div>\n",
              "<style scoped>\n",
              "    .dataframe tbody tr th:only-of-type {\n",
              "        vertical-align: middle;\n",
              "    }\n",
              "\n",
              "    .dataframe tbody tr th {\n",
              "        vertical-align: top;\n",
              "    }\n",
              "\n",
              "    .dataframe thead th {\n",
              "        text-align: right;\n",
              "    }\n",
              "</style>\n",
              "<table border=\"1\" class=\"dataframe\">\n",
              "  <thead>\n",
              "    <tr style=\"text-align: right;\">\n",
              "      <th></th>\n",
              "      <th>área</th>\n",
              "      <th>quartos</th>\n",
              "      <th>banheiros</th>\n",
              "      <th>vagas garagem</th>\n",
              "      <th>mobiliado</th>\n",
              "      <th>portaria 24h</th>\n",
              "      <th>elevador</th>\n",
              "      <th>piscina</th>\n",
              "      <th>churrasqueira</th>\n",
              "      <th>salão de festas</th>\n",
              "      <th>academia</th>\n",
              "      <th>playground</th>\n",
              "      <th>quadra poliesportiva</th>\n",
              "      <th>salão de jogos</th>\n",
              "      <th>aceita animais</th>\n",
              "      <th>aluguel</th>\n",
              "      <th>condomínio</th>\n",
              "      <th>iptu</th>\n",
              "      <th>corretora</th>\n",
              "      <th>localizacao</th>\n",
              "    </tr>\n",
              "  </thead>\n",
              "  <tbody>\n",
              "    <tr>\n",
              "      <th>0</th>\n",
              "      <td>100</td>\n",
              "      <td>3</td>\n",
              "      <td>2</td>\n",
              "      <td>2</td>\n",
              "      <td>1</td>\n",
              "      <td>1</td>\n",
              "      <td>1</td>\n",
              "      <td>1</td>\n",
              "      <td>1</td>\n",
              "      <td>1</td>\n",
              "      <td>1</td>\n",
              "      <td>1</td>\n",
              "      <td>1</td>\n",
              "      <td>1</td>\n",
              "      <td>1</td>\n",
              "      <td>4000.0</td>\n",
              "      <td>500.0</td>\n",
              "      <td>100.0</td>\n",
              "      <td>Tubarão</td>\n",
              "      <td>Oceano Pacífico</td>\n",
              "    </tr>\n",
              "    <tr>\n",
              "      <th>1</th>\n",
              "      <td>60</td>\n",
              "      <td>2</td>\n",
              "      <td>2</td>\n",
              "      <td>1</td>\n",
              "      <td>1</td>\n",
              "      <td>1</td>\n",
              "      <td>0</td>\n",
              "      <td>0</td>\n",
              "      <td>0</td>\n",
              "      <td>1</td>\n",
              "      <td>0</td>\n",
              "      <td>0</td>\n",
              "      <td>1</td>\n",
              "      <td>0</td>\n",
              "      <td>0</td>\n",
              "      <td>2000.0</td>\n",
              "      <td>200.0</td>\n",
              "      <td>50.0</td>\n",
              "      <td>Carangueijo</td>\n",
              "      <td>Oceano Índico</td>\n",
              "    </tr>\n",
              "    <tr>\n",
              "      <th>2</th>\n",
              "      <td>50</td>\n",
              "      <td>1</td>\n",
              "      <td>1</td>\n",
              "      <td>1</td>\n",
              "      <td>1</td>\n",
              "      <td>0</td>\n",
              "      <td>0</td>\n",
              "      <td>0</td>\n",
              "      <td>0</td>\n",
              "      <td>0</td>\n",
              "      <td>0</td>\n",
              "      <td>0</td>\n",
              "      <td>0</td>\n",
              "      <td>0</td>\n",
              "      <td>0</td>\n",
              "      <td>1300.0</td>\n",
              "      <td>200.0</td>\n",
              "      <td>50.0</td>\n",
              "      <td>Baleia Azul</td>\n",
              "      <td>Mar de Java</td>\n",
              "    </tr>\n",
              "    <tr>\n",
              "      <th>3</th>\n",
              "      <td>60</td>\n",
              "      <td>2</td>\n",
              "      <td>2</td>\n",
              "      <td>1</td>\n",
              "      <td>1</td>\n",
              "      <td>1</td>\n",
              "      <td>0</td>\n",
              "      <td>0</td>\n",
              "      <td>0</td>\n",
              "      <td>0</td>\n",
              "      <td>0</td>\n",
              "      <td>0</td>\n",
              "      <td>0</td>\n",
              "      <td>0</td>\n",
              "      <td>0</td>\n",
              "      <td>1800.0</td>\n",
              "      <td>100.0</td>\n",
              "      <td>20.0</td>\n",
              "      <td>Baleia Azul</td>\n",
              "      <td>Oceano Índico</td>\n",
              "    </tr>\n",
              "    <tr>\n",
              "      <th>4</th>\n",
              "      <td>120</td>\n",
              "      <td>4</td>\n",
              "      <td>3</td>\n",
              "      <td>2</td>\n",
              "      <td>1</td>\n",
              "      <td>1</td>\n",
              "      <td>1</td>\n",
              "      <td>1</td>\n",
              "      <td>1</td>\n",
              "      <td>1</td>\n",
              "      <td>1</td>\n",
              "      <td>1</td>\n",
              "      <td>1</td>\n",
              "      <td>1</td>\n",
              "      <td>1</td>\n",
              "      <td>3800.0</td>\n",
              "      <td>500.0</td>\n",
              "      <td>200.0</td>\n",
              "      <td>Tubarão</td>\n",
              "      <td>Oceano Pacífico</td>\n",
              "    </tr>\n",
              "  </tbody>\n",
              "</table>\n",
              "</div>"
            ],
            "text/plain": [
              "   área  quartos  banheiros  ...   iptu    corretora      localizacao\n",
              "0   100        3          2  ...  100.0      Tubarão  Oceano Pacífico\n",
              "1    60        2          2  ...   50.0  Carangueijo    Oceano Índico\n",
              "2    50        1          1  ...   50.0  Baleia Azul      Mar de Java\n",
              "3    60        2          2  ...   20.0  Baleia Azul    Oceano Índico\n",
              "4   120        4          3  ...  200.0      Tubarão  Oceano Pacífico\n",
              "\n",
              "[5 rows x 20 columns]"
            ]
          },
          "metadata": {
            "tags": []
          },
          "execution_count": 71
        }
      ]
    },
    {
      "cell_type": "code",
      "metadata": {
        "colab": {
          "base_uri": "https://localhost:8080/"
        },
        "id": "2Vs2fcapgiFO",
        "outputId": "8bb5f22a-a0ae-4a49-883b-002dbeda0e00"
      },
      "source": [
        "resultados_df.columns"
      ],
      "execution_count": 72,
      "outputs": [
        {
          "output_type": "execute_result",
          "data": {
            "text/plain": [
              "Index(['área', 'quartos', 'banheiros', 'vagas garagem', 'mobiliado',\n",
              "       'portaria 24h', 'elevador', 'piscina', 'churrasqueira',\n",
              "       'salão de festas', 'academia', 'playground', 'quadra poliesportiva',\n",
              "       'salão de jogos', 'aceita animais', 'aluguel', 'condomínio', 'iptu',\n",
              "       'corretora', 'localizacao'],\n",
              "      dtype='object')"
            ]
          },
          "metadata": {
            "tags": []
          },
          "execution_count": 72
        }
      ]
    },
    {
      "cell_type": "code",
      "metadata": {
        "id": "-S2MdC5ogwbb"
      },
      "source": [
        ""
      ],
      "execution_count": null,
      "outputs": []
    }
  ]
}