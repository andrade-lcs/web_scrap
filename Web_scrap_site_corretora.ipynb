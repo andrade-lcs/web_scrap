{
  "nbformat": 4,
  "nbformat_minor": 0,
  "metadata": {
    "colab": {
      "name": "Web_scrap_site_corretora.ipynb",
      "provenance": [],
      "authorship_tag": "ABX9TyOxiyDeGmXEsBDqyjH3gsNs"
    },
    "kernelspec": {
      "name": "python3",
      "display_name": "Python 3"
    }
  },
  "cells": [
    {
      "cell_type": "code",
      "metadata": {
        "id": "5kC7tWRlBG-S"
      },
      "source": [
        "from bs4 import BeautifulSoup\r\n",
        "from urllib.request import urlopen"
      ],
      "execution_count": 1,
      "outputs": []
    },
    {
      "cell_type": "code",
      "metadata": {
        "id": "6cmxCa5eB5rE"
      },
      "source": [
        "url_sobre = 'https://ocean-web-scraping.herokuapp.com/sobre.html'\r\n",
        "url_busca = 'https://ocean-web-scraping.herokuapp.com/'\r\n",
        "url_corretoras = 'https://ocean-web-scraping.herokuapp.com/corretoras.html'"
      ],
      "execution_count": 2,
      "outputs": []
    },
    {
      "cell_type": "code",
      "metadata": {
        "colab": {
          "base_uri": "https://localhost:8080/"
        },
        "id": "-E1oEqxQB8Ip",
        "outputId": "0f6ea031-476d-4799-bd4a-bb30d0b0db1c"
      },
      "source": [
        "response_sobre = urlopen(url_sobre)\r\n",
        "html_sobre = response_sobre.read()\r\n",
        "soup_sobre = BeautifulSoup(html_sobre, 'html.parser')\r\n",
        "print(soup_sobre.prettify())"
      ],
      "execution_count": 3,
      "outputs": [
        {
          "output_type": "stream",
          "text": [
            "<!DOCTYPE html>\n",
            "<html lang=\"pt-br\">\n",
            " <head>\n",
            "  <meta charset=\"utf-8\"/>\n",
            "  <meta content=\"width=device-width\" name=\"viewport\"/>\n",
            "  <title>\n",
            "   Oceano de Aluguéis\n",
            "  </title>\n",
            "  <link href=\"reset.css\" rel=\"stylesheet\"/>\n",
            "  <link href=\"style.css\" rel=\"stylesheet\"/>\n",
            "  <link href=\"https://fonts.googleapis.com/css?family=Montserrat&amp;display=swap\" rel=\"stylesheet\"/>\n",
            " </head>\n",
            " <body>\n",
            "  <header>\n",
            "   <div>\n",
            "    <img src=\"imagens/oceano-logo.png\"/>\n",
            "    <h1>\n",
            "     Oceano de Aluguéis\n",
            "    </h1>\n",
            "    <nav>\n",
            "     <ul>\n",
            "      <li>\n",
            "       <a href=\"results&amp;page=1.html\">\n",
            "        Resultados\n",
            "       </a>\n",
            "      </li>\n",
            "      <li>\n",
            "       <a href=\"corretoras.html\">\n",
            "        Corretoras\n",
            "       </a>\n",
            "      </li>\n",
            "      <li>\n",
            "       <a href=\"sobre.html\">\n",
            "        Sobre\n",
            "       </a>\n",
            "      </li>\n",
            "     </ul>\n",
            "    </nav>\n",
            "   </div>\n",
            "  </header>\n",
            "  <main>\n",
            "   <div class=\"about\">\n",
            "    <h2>\n",
            "     Sobre este site\n",
            "    </h2>\n",
            "    <p>\n",
            "     Este site foi criado para treinamentos de Web Scraping do\n",
            "     <a href=\"http://www.oceanbrasil.com/\">\n",
            "      Ocean\n",
            "     </a>\n",
            "     .\n",
            "    </p>\n",
            "    <p>\n",
            "     Vamos para os primeiros desafios?\n",
            "    </p>\n",
            "    <ol>\n",
            "     <li>\n",
            "      Que tal coletar o texto\n",
            "      <em>\n",
            "       \"Sobre este site\"\n",
            "      </em>\n",
            "      para começar?\n",
            "     </li>\n",
            "     <li>\n",
            "      Agora extraia o link contido na palavra\n",
            "      <em>\n",
            "       \"Ocean\"\n",
            "      </em>\n",
            "      .\n",
            "     </li>\n",
            "     <li>\n",
            "      Em seguida, colete todos os itens desta lista.\n",
            "     </li>\n",
            "     <li>\n",
            "      Por fim, colete apenas este último item da lista.\n",
            "     </li>\n",
            "    </ol>\n",
            "   </div>\n",
            "  </main>\n",
            "  <footer>\n",
            "   <img src=\"imagens/oceano-logo-cinza.png\"/>\n",
            "   <p>\n",
            "    Site criado para o curso de Web Scraping do Ocean\n",
            "   </p>\n",
            "  </footer>\n",
            " </body>\n",
            "</html>\n"
          ],
          "name": "stdout"
        }
      ]
    },
    {
      "cell_type": "code",
      "metadata": {
        "id": "8NNWEipwCX18"
      },
      "source": [
        ""
      ],
      "execution_count": null,
      "outputs": []
    }
  ]
}