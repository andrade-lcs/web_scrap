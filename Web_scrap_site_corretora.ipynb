{
  "nbformat": 4,
  "nbformat_minor": 0,
  "metadata": {
    "colab": {
      "name": "Web_scrap_site_corretora.ipynb",
      "provenance": [],
      "authorship_tag": "ABX9TyNIzEdAbhf7y9r6LJg/kiCr"
    },
    "kernelspec": {
      "name": "python3",
      "display_name": "Python 3"
    }
  },
  "cells": [
    {
      "cell_type": "code",
      "metadata": {
        "id": "5kC7tWRlBG-S"
      },
      "source": [
        "from bs4 import BeautifulSoup\r\n",
        "from urllib.request import urlopen"
      ],
      "execution_count": 1,
      "outputs": []
    },
    {
      "cell_type": "code",
      "metadata": {
        "id": "6cmxCa5eB5rE"
      },
      "source": [
        "url_sobre = 'https://ocean-web-scraping.herokuapp.com/sobre.html'\r\n",
        "url_busca = 'https://ocean-web-scraping.herokuapp.com/'\r\n",
        "url_corretoras = 'https://ocean-web-scraping.herokuapp.com/corretoras.html'"
      ],
      "execution_count": 2,
      "outputs": []
    },
    {
      "cell_type": "markdown",
      "metadata": {
        "id": "JiQTSjSMGjI_"
      },
      "source": [
        "Obtendo os urls"
      ]
    },
    {
      "cell_type": "code",
      "metadata": {
        "colab": {
          "base_uri": "https://localhost:8080/"
        },
        "id": "-E1oEqxQB8Ip",
        "outputId": "c5eb5595-251f-4812-f9b9-e77fc69143b5"
      },
      "source": [
        "response_sobre = urlopen(url_sobre)\r\n",
        "html_sobre = response_sobre.read()\r\n",
        "soup_sobre = BeautifulSoup(html_sobre, 'html.parser')\r\n",
        "print(soup_sobre.prettify())"
      ],
      "execution_count": 3,
      "outputs": [
        {
          "output_type": "stream",
          "text": [
            "<!DOCTYPE html>\n",
            "<html lang=\"pt-br\">\n",
            " <head>\n",
            "  <meta charset=\"utf-8\"/>\n",
            "  <meta content=\"width=device-width\" name=\"viewport\"/>\n",
            "  <title>\n",
            "   Oceano de Aluguéis\n",
            "  </title>\n",
            "  <link href=\"reset.css\" rel=\"stylesheet\"/>\n",
            "  <link href=\"style.css\" rel=\"stylesheet\"/>\n",
            "  <link href=\"https://fonts.googleapis.com/css?family=Montserrat&amp;display=swap\" rel=\"stylesheet\"/>\n",
            " </head>\n",
            " <body>\n",
            "  <header>\n",
            "   <div>\n",
            "    <img src=\"imagens/oceano-logo.png\"/>\n",
            "    <h1>\n",
            "     Oceano de Aluguéis\n",
            "    </h1>\n",
            "    <nav>\n",
            "     <ul>\n",
            "      <li>\n",
            "       <a href=\"results&amp;page=1.html\">\n",
            "        Resultados\n",
            "       </a>\n",
            "      </li>\n",
            "      <li>\n",
            "       <a href=\"corretoras.html\">\n",
            "        Corretoras\n",
            "       </a>\n",
            "      </li>\n",
            "      <li>\n",
            "       <a href=\"sobre.html\">\n",
            "        Sobre\n",
            "       </a>\n",
            "      </li>\n",
            "     </ul>\n",
            "    </nav>\n",
            "   </div>\n",
            "  </header>\n",
            "  <main>\n",
            "   <div class=\"about\">\n",
            "    <h2>\n",
            "     Sobre este site\n",
            "    </h2>\n",
            "    <p>\n",
            "     Este site foi criado para treinamentos de Web Scraping do\n",
            "     <a href=\"http://www.oceanbrasil.com/\">\n",
            "      Ocean\n",
            "     </a>\n",
            "     .\n",
            "    </p>\n",
            "    <p>\n",
            "     Vamos para os primeiros desafios?\n",
            "    </p>\n",
            "    <ol>\n",
            "     <li>\n",
            "      Que tal coletar o texto\n",
            "      <em>\n",
            "       \"Sobre este site\"\n",
            "      </em>\n",
            "      para começar?\n",
            "     </li>\n",
            "     <li>\n",
            "      Agora extraia o link contido na palavra\n",
            "      <em>\n",
            "       \"Ocean\"\n",
            "      </em>\n",
            "      .\n",
            "     </li>\n",
            "     <li>\n",
            "      Em seguida, colete todos os itens desta lista.\n",
            "     </li>\n",
            "     <li>\n",
            "      Por fim, colete apenas este último item da lista.\n",
            "     </li>\n",
            "    </ol>\n",
            "   </div>\n",
            "  </main>\n",
            "  <footer>\n",
            "   <img src=\"imagens/oceano-logo-cinza.png\"/>\n",
            "   <p>\n",
            "    Site criado para o curso de Web Scraping do Ocean\n",
            "   </p>\n",
            "  </footer>\n",
            " </body>\n",
            "</html>\n"
          ],
          "name": "stdout"
        }
      ]
    },
    {
      "cell_type": "code",
      "metadata": {
        "colab": {
          "base_uri": "https://localhost:8080/"
        },
        "id": "8NNWEipwCX18",
        "outputId": "1db27642-1155-4423-9538-84babe9995fa"
      },
      "source": [
        "response_busca = urlopen(url_busca)\r\n",
        "html_busca = response_busca.read()\r\n",
        "soup_busca = BeautifulSoup(html_busca, 'html.parser')\r\n",
        "print(soup_busca.prettify())"
      ],
      "execution_count": 4,
      "outputs": [
        {
          "output_type": "stream",
          "text": [
            "<!DOCTYPE html>\n",
            "<html lang=\"pt-br\">\n",
            " <head>\n",
            "  <meta charset=\"utf-8\"/>\n",
            "  <meta content=\"width=device-width\" name=\"viewport\"/>\n",
            "  <title>\n",
            "   Oceano de Aluguéis\n",
            "  </title>\n",
            "  <link href=\"reset.css\" rel=\"stylesheet\"/>\n",
            "  <link href=\"style.css\" rel=\"stylesheet\"/>\n",
            "  <link href=\"https://fonts.googleapis.com/css?family=Montserrat&amp;display=swap\" rel=\"stylesheet\"/>\n",
            " </head>\n",
            " <body>\n",
            "  <header>\n",
            "   <div>\n",
            "    <img src=\"imagens/oceano-logo.png\"/>\n",
            "    <h1>\n",
            "     Oceano de Aluguéis\n",
            "    </h1>\n",
            "    <nav>\n",
            "     <ul>\n",
            "      <li>\n",
            "       <a href=\"results&amp;page=1.html\">\n",
            "        Resultados\n",
            "       </a>\n",
            "      </li>\n",
            "      <li>\n",
            "       <a href=\"corretoras.html\">\n",
            "        Corretoras\n",
            "       </a>\n",
            "      </li>\n",
            "      <li>\n",
            "       <a href=\"sobre.html\">\n",
            "        Sobre\n",
            "       </a>\n",
            "      </li>\n",
            "     </ul>\n",
            "    </nav>\n",
            "   </div>\n",
            "  </header>\n",
            "  <main>\n",
            "   <div class=\"ad-card-list\">\n",
            "    <p>\n",
            "     21 resultados obtidos - Página 1\n",
            "    </p>\n",
            "    <div class=\"ad-card\">\n",
            "     <img class=\"apto-img\" src=\"imagens/apto-01.jpg\"/>\n",
            "     <div class=\"ad-card-info\">\n",
            "      <h2>\n",
            "       Lindo apartamento para alugar\n",
            "      </h2>\n",
            "      <ul class=\"features\">\n",
            "       <li>\n",
            "        <img src=\"imagens/area.png\"/>\n",
            "        100 m²\n",
            "       </li>\n",
            "       <li>\n",
            "        <img src=\"imagens/bedrooms.png\"/>\n",
            "        3 quarto(s)\n",
            "       </li>\n",
            "       <li>\n",
            "        <img src=\"imagens/toilet.png\"/>\n",
            "        2 banheiro(s)\n",
            "       </li>\n",
            "       <li>\n",
            "        <img src=\"imagens/parking.png\"/>\n",
            "        2 vaga(s)\n",
            "       </li>\n",
            "      </ul>\n",
            "      <ul class=\"resources\">\n",
            "       <li>\n",
            "        Mobiliado\n",
            "       </li>\n",
            "       <li>\n",
            "        Portaria 24h\n",
            "       </li>\n",
            "       <li>\n",
            "        Elevador\n",
            "       </li>\n",
            "       <li>\n",
            "        Piscina\n",
            "       </li>\n",
            "       <li>\n",
            "        Churrasqueira\n",
            "       </li>\n",
            "       <li>\n",
            "        Salão de Festas\n",
            "       </li>\n",
            "       <li>\n",
            "        Academia\n",
            "       </li>\n",
            "       <li>\n",
            "        Playground\n",
            "       </li>\n",
            "       <li>\n",
            "        Quadra poliesportiva\n",
            "       </li>\n",
            "       <li>\n",
            "        Salão de jogos\n",
            "       </li>\n",
            "       <li>\n",
            "        Aceita animais\n",
            "       </li>\n",
            "      </ul>\n",
            "      <p>\n",
            "       Localização: Oceano Pacífico\n",
            "      </p>\n",
            "     </div>\n",
            "     <div class=\"ad-card-price\">\n",
            "      <p>\n",
            "       Aluguel: R$ 4.000,00\n",
            "      </p>\n",
            "      <p>\n",
            "       Condomínio: 500,00\n",
            "      </p>\n",
            "      <p>\n",
            "       IPTU: R$ 100,00\n",
            "      </p>\n",
            "      <p>\n",
            "       Corretora: Tubarão\n",
            "      </p>\n",
            "     </div>\n",
            "    </div>\n",
            "    <div class=\"ad-card\">\n",
            "     <img class=\"apto-img\" src=\"imagens/apto-02.jpg\"/>\n",
            "     <div class=\"ad-card-info\">\n",
            "      <h2>\n",
            "       Ótimo lugar para morar\n",
            "      </h2>\n",
            "      <ul class=\"features\">\n",
            "       <li>\n",
            "        <img src=\"imagens/area.png\"/>\n",
            "        60 m²\n",
            "       </li>\n",
            "       <li>\n",
            "        <img src=\"imagens/bedrooms.png\"/>\n",
            "        2 quarto(s)\n",
            "       </li>\n",
            "       <li>\n",
            "        <img src=\"imagens/toilet.png\"/>\n",
            "        2 banheiro(s)\n",
            "       </li>\n",
            "       <li>\n",
            "        <img src=\"imagens/parking.png\"/>\n",
            "        1 vaga(s)\n",
            "       </li>\n",
            "      </ul>\n",
            "      <ul class=\"resources\">\n",
            "       <li>\n",
            "        Mobiliado\n",
            "       </li>\n",
            "       <li>\n",
            "        Portaria 24h\n",
            "       </li>\n",
            "       <li>\n",
            "        Salão de Festas\n",
            "       </li>\n",
            "       <li>\n",
            "        Quadra poliesportiva\n",
            "       </li>\n",
            "      </ul>\n",
            "      <p>\n",
            "       Localização: Oceano Índico\n",
            "      </p>\n",
            "     </div>\n",
            "     <div class=\"ad-card-price\">\n",
            "      <p>\n",
            "       Aluguel: R$ 2.000,00\n",
            "      </p>\n",
            "      <p>\n",
            "       Condomínio: 200,00\n",
            "      </p>\n",
            "      <p>\n",
            "       IPTU: R$ 50,00\n",
            "      </p>\n",
            "      <p>\n",
            "       Corretora: Carangueijo\n",
            "      </p>\n",
            "     </div>\n",
            "    </div>\n",
            "    <div class=\"ad-card\">\n",
            "     <img class=\"apto-img\" src=\"imagens/apto-03.jpg\"/>\n",
            "     <div class=\"ad-card-info\">\n",
            "      <h2>\n",
            "       Belíssimo apartamento mobiliado\n",
            "      </h2>\n",
            "      <ul class=\"features\">\n",
            "       <li>\n",
            "        <img src=\"imagens/area.png\"/>\n",
            "        50 m²\n",
            "       </li>\n",
            "       <li>\n",
            "        <img src=\"imagens/bedrooms.png\"/>\n",
            "        1 quarto(s)\n",
            "       </li>\n",
            "       <li>\n",
            "        <img src=\"imagens/toilet.png\"/>\n",
            "        1 banheiro(s)\n",
            "       </li>\n",
            "       <li>\n",
            "        <img src=\"imagens/parking.png\"/>\n",
            "        1 vaga(s)\n",
            "       </li>\n",
            "      </ul>\n",
            "      <ul class=\"resources\">\n",
            "       <li>\n",
            "        Mobiliado\n",
            "       </li>\n",
            "      </ul>\n",
            "      <p>\n",
            "       Localização: Mar de Java\n",
            "      </p>\n",
            "     </div>\n",
            "     <div class=\"ad-card-price\">\n",
            "      <p>\n",
            "       Aluguel: R$ 1.300,00\n",
            "      </p>\n",
            "      <p>\n",
            "       Condomínio: 200,00\n",
            "      </p>\n",
            "      <p>\n",
            "       IPTU: R$ 50,00\n",
            "      </p>\n",
            "      <p>\n",
            "       Corretora: Baleia Azul\n",
            "      </p>\n",
            "     </div>\n",
            "    </div>\n",
            "    <div class=\"ad-card\">\n",
            "     <img class=\"apto-img\" src=\"imagens/apto-04.jpg\"/>\n",
            "     <div class=\"ad-card-info\">\n",
            "      <h2>\n",
            "       Um cantinho todo seu\n",
            "      </h2>\n",
            "      <ul class=\"features\">\n",
            "       <li>\n",
            "        <img src=\"imagens/area.png\"/>\n",
            "        60 m²\n",
            "       </li>\n",
            "       <li>\n",
            "        <img src=\"imagens/bedrooms.png\"/>\n",
            "        2 quarto(s)\n",
            "       </li>\n",
            "       <li>\n",
            "        <img src=\"imagens/toilet.png\"/>\n",
            "        2 banheiro(s)\n",
            "       </li>\n",
            "       <li>\n",
            "        <img src=\"imagens/parking.png\"/>\n",
            "        1 vaga(s)\n",
            "       </li>\n",
            "      </ul>\n",
            "      <ul class=\"resources\">\n",
            "       <li>\n",
            "        Mobiliado\n",
            "       </li>\n",
            "       <li>\n",
            "        Portaria 24h\n",
            "       </li>\n",
            "      </ul>\n",
            "      <p>\n",
            "       Localização: Oceano Índico\n",
            "      </p>\n",
            "     </div>\n",
            "     <div class=\"ad-card-price\">\n",
            "      <p>\n",
            "       Aluguel: R$ 1.800,00\n",
            "      </p>\n",
            "      <p>\n",
            "       Condomínio: 100,00\n",
            "      </p>\n",
            "      <p>\n",
            "       IPTU: R$ 20,00\n",
            "      </p>\n",
            "      <p>\n",
            "       Corretora: Baleia Azul\n",
            "      </p>\n",
            "     </div>\n",
            "    </div>\n",
            "    <div class=\"ad-card\">\n",
            "     <img class=\"apto-img\" src=\"imagens/apto-05.jpg\"/>\n",
            "     <div class=\"ad-card-info\">\n",
            "      <h2>\n",
            "       Alugue já! Ótima oportunidade\n",
            "      </h2>\n",
            "      <ul class=\"features\">\n",
            "       <li>\n",
            "        <img src=\"imagens/area.png\"/>\n",
            "        120 m²\n",
            "       </li>\n",
            "       <li>\n",
            "        <img src=\"imagens/bedrooms.png\"/>\n",
            "        4 quarto(s)\n",
            "       </li>\n",
            "       <li>\n",
            "        <img src=\"imagens/toilet.png\"/>\n",
            "        3 banheiro(s)\n",
            "       </li>\n",
            "       <li>\n",
            "        <img src=\"imagens/parking.png\"/>\n",
            "        2 vaga(s)\n",
            "       </li>\n",
            "      </ul>\n",
            "      <ul class=\"resources\">\n",
            "       <li>\n",
            "        Mobiliado\n",
            "       </li>\n",
            "       <li>\n",
            "        Portaria 24h\n",
            "       </li>\n",
            "       <li>\n",
            "        Elevador\n",
            "       </li>\n",
            "       <li>\n",
            "        Piscina\n",
            "       </li>\n",
            "       <li>\n",
            "        Churrasqueira\n",
            "       </li>\n",
            "       <li>\n",
            "        Salão de Festas\n",
            "       </li>\n",
            "       <li>\n",
            "        Academia\n",
            "       </li>\n",
            "       <li>\n",
            "        Playground\n",
            "       </li>\n",
            "       <li>\n",
            "        Quadra poliesportiva\n",
            "       </li>\n",
            "       <li>\n",
            "        Salão de jogos\n",
            "       </li>\n",
            "       <li>\n",
            "        Aceita animais\n",
            "       </li>\n",
            "      </ul>\n",
            "      <p>\n",
            "       Localização: Oceano Pacífico\n",
            "      </p>\n",
            "     </div>\n",
            "     <div class=\"ad-card-price\">\n",
            "      <p>\n",
            "       Aluguel: R$ 3.800,00\n",
            "      </p>\n",
            "      <p>\n",
            "       Condomínio: 500,00\n",
            "      </p>\n",
            "      <p>\n",
            "       IPTU: R$ 200,00\n",
            "      </p>\n",
            "      <p>\n",
            "       Corretora: Tubarão\n",
            "      </p>\n",
            "     </div>\n",
            "    </div>\n",
            "   </div>\n",
            "   <div class=\"pagination\">\n",
            "    <a class=\"inactive\" href=\"#\">\n",
            "     «\n",
            "    </a>\n",
            "    <a class=\"active\" href=\"#\">\n",
            "     1\n",
            "    </a>\n",
            "    <a href=\"results&amp;page=2.html\">\n",
            "     2\n",
            "    </a>\n",
            "    <a href=\"results&amp;page=3.html\">\n",
            "     3\n",
            "    </a>\n",
            "    <a href=\"results&amp;page=2.html\">\n",
            "     »\n",
            "    </a>\n",
            "   </div>\n",
            "  </main>\n",
            "  <footer>\n",
            "   <img src=\"imagens/oceano-logo-cinza.png\"/>\n",
            "   <p>\n",
            "    Site criado para o curso de Web Scraping do Ocean\n",
            "   </p>\n",
            "  </footer>\n",
            " </body>\n",
            "</html>\n"
          ],
          "name": "stdout"
        }
      ]
    },
    {
      "cell_type": "code",
      "metadata": {
        "colab": {
          "base_uri": "https://localhost:8080/"
        },
        "id": "Iq-vjtoJC-Si",
        "outputId": "3c90fa7f-bd37-4c96-ec05-a4fa88e87e49"
      },
      "source": [
        "response_corretoras = urlopen(url_corretoras)\r\n",
        "html_corretoras = response_corretoras.read()\r\n",
        "soup_corretoras = BeautifulSoup(html_corretoras, 'html.parser')\r\n",
        "print(soup_corretoras.prettify())"
      ],
      "execution_count": 5,
      "outputs": [
        {
          "output_type": "stream",
          "text": [
            "<!DOCTYPE html>\n",
            "<html lang=\"pt-br\">\n",
            " <head>\n",
            "  <meta charset=\"utf-8\"/>\n",
            "  <meta content=\"width=device-width\" name=\"viewport\"/>\n",
            "  <title>\n",
            "   Oceano de Aluguéis\n",
            "  </title>\n",
            "  <link href=\"reset.css\" rel=\"stylesheet\"/>\n",
            "  <link href=\"style.css\" rel=\"stylesheet\"/>\n",
            "  <link href=\"https://fonts.googleapis.com/css?family=Montserrat&amp;display=swap\" rel=\"stylesheet\"/>\n",
            " </head>\n",
            " <body>\n",
            "  <header>\n",
            "   <div>\n",
            "    <img src=\"imagens/oceano-logo.png\"/>\n",
            "    <h1>\n",
            "     Oceano de Aluguéis\n",
            "    </h1>\n",
            "    <nav>\n",
            "     <ul>\n",
            "      <li>\n",
            "       <a href=\"results&amp;page=1.html\">\n",
            "        Resultados\n",
            "       </a>\n",
            "      </li>\n",
            "      <li>\n",
            "       <a href=\"corretoras.html\">\n",
            "        Corretoras\n",
            "       </a>\n",
            "      </li>\n",
            "      <li>\n",
            "       <a href=\"sobre.html\">\n",
            "        Sobre\n",
            "       </a>\n",
            "      </li>\n",
            "     </ul>\n",
            "    </nav>\n",
            "   </div>\n",
            "  </header>\n",
            "  <main>\n",
            "   <div class=\"contacts\">\n",
            "    <table>\n",
            "     <thead>\n",
            "      <tr>\n",
            "       <th>\n",
            "        Corretora\n",
            "       </th>\n",
            "       <th>\n",
            "        Contatos\n",
            "       </th>\n",
            "      </tr>\n",
            "     </thead>\n",
            "     <tbody>\n",
            "      <tr>\n",
            "       <td>\n",
            "        Tubarão\n",
            "       </td>\n",
            "       <td>\n",
            "        João Marinho - Fone:(XX)XXXX-XXXX\n",
            "       </td>\n",
            "      </tr>\n",
            "      <tr>\n",
            "       <td>\n",
            "        Carangueijo\n",
            "       </td>\n",
            "       <td>\n",
            "        Ana Sirigueijo - Fone:(XX)XXXX-XXXX; Sebastião Costa - Fone:(XX)XXXX-XXXX\n",
            "       </td>\n",
            "      </tr>\n",
            "      <tr>\n",
            "       <td>\n",
            "        Baleia Azul\n",
            "       </td>\n",
            "       <td>\n",
            "        <ul>\n",
            "         <li>\n",
            "          Alina Ferreira - Fone:(XX)XXXX-XXXX\n",
            "         </li>\n",
            "         <li>\n",
            "          Jorge Matheus - Fone:(XX)XXXX-XXXX\n",
            "         </li>\n",
            "        </ul>\n",
            "       </td>\n",
            "      </tr>\n",
            "      <tr>\n",
            "       <td>\n",
            "        Enguia\n",
            "       </td>\n",
            "       <td>\n",
            "        <a href=\"pdfs/contatos-enguia.pdf\">\n",
            "         Nossos contatos\n",
            "        </a>\n",
            "       </td>\n",
            "      </tr>\n",
            "     </tbody>\n",
            "    </table>\n",
            "   </div>\n",
            "  </main>\n",
            "  <footer>\n",
            "   <img src=\"imagens/oceano-logo-cinza.png\"/>\n",
            "   <p>\n",
            "    Site criado para o curso de Web Scraping do Ocean\n",
            "   </p>\n",
            "  </footer>\n",
            " </body>\n",
            "</html>\n"
          ],
          "name": "stdout"
        }
      ]
    },
    {
      "cell_type": "markdown",
      "metadata": {
        "id": "wNFcebkjGcdx"
      },
      "source": [
        "Pegando elementos do url_sobre"
      ]
    },
    {
      "cell_type": "code",
      "metadata": {
        "colab": {
          "base_uri": "https://localhost:8080/",
          "height": 35
        },
        "id": "vfHxx58FD2yh",
        "outputId": "313c5eab-f63f-481e-bc00-6d837f20263d"
      },
      "source": [
        "soup_sobre.find(\"div\", {\"class\": \"about\"}).find(\"h2\").get_text()"
      ],
      "execution_count": 18,
      "outputs": [
        {
          "output_type": "execute_result",
          "data": {
            "application/vnd.google.colaboratory.intrinsic+json": {
              "type": "string"
            },
            "text/plain": [
              "'Sobre este site'"
            ]
          },
          "metadata": {
            "tags": []
          },
          "execution_count": 18
        }
      ]
    },
    {
      "cell_type": "code",
      "metadata": {
        "colab": {
          "base_uri": "https://localhost:8080/",
          "height": 35
        },
        "id": "DD5lsqt2EpY6",
        "outputId": "33658507-a350-412d-ebf1-c04a4bdac3ba"
      },
      "source": [
        "soup_sobre.find(\"div\", {\"class\": \"about\"}).find(\"a\").get(\"href\")\r\n"
      ],
      "execution_count": 19,
      "outputs": [
        {
          "output_type": "execute_result",
          "data": {
            "application/vnd.google.colaboratory.intrinsic+json": {
              "type": "string"
            },
            "text/plain": [
              "'http://www.oceanbrasil.com/'"
            ]
          },
          "metadata": {
            "tags": []
          },
          "execution_count": 19
        }
      ]
    },
    {
      "cell_type": "code",
      "metadata": {
        "id": "DrUmqIvrF6aw",
        "outputId": "0b233597-c85d-4dd4-ec79-4241d5236062",
        "colab": {
          "base_uri": "https://localhost:8080/"
        }
      },
      "source": [
        "soup_sobre.find(\"div\", {\"class\": \"about\"}).find(\"ol\").find_all(\"li\")"
      ],
      "execution_count": 24,
      "outputs": [
        {
          "output_type": "execute_result",
          "data": {
            "text/plain": [
              "[<li>Que tal coletar o texto <em>\"Sobre este site\"</em> para começar?</li>,\n",
              " <li>Agora extraia o link contido na palavra <em>\"Ocean\"</em>.</li>,\n",
              " <li>Em seguida, colete todos os itens desta lista.</li>,\n",
              " <li>Por fim, colete apenas este último item da lista.</li>]"
            ]
          },
          "metadata": {
            "tags": []
          },
          "execution_count": 24
        }
      ]
    },
    {
      "cell_type": "code",
      "metadata": {
        "id": "6Dl8rcwaG05x",
        "outputId": "7bb12ce7-f459-4063-ec94-ecd686ef45a2",
        "colab": {
          "base_uri": "https://localhost:8080/"
        }
      },
      "source": [
        "for item in soup_sobre.find(\"div\", {\"class\": \"about\"}).find(\"ol\").find_all(\"li\"):\r\n",
        "    print(item.get_text())"
      ],
      "execution_count": 25,
      "outputs": [
        {
          "output_type": "stream",
          "text": [
            "Que tal coletar o texto \"Sobre este site\" para começar?\n",
            "Agora extraia o link contido na palavra \"Ocean\".\n",
            "Em seguida, colete todos os itens desta lista.\n",
            "Por fim, colete apenas este último item da lista.\n"
          ],
          "name": "stdout"
        }
      ]
    },
    {
      "cell_type": "code",
      "metadata": {
        "id": "0-cBz84AHMXd",
        "outputId": "567db994-109c-4e6b-8e04-e56e692587e4",
        "colab": {
          "base_uri": "https://localhost:8080/",
          "height": 35
        }
      },
      "source": [
        "soup_sobre.find(\"div\", {\"class\": \"about\"}).find(\"ol\").find_all(\"li\")[-1].get_text()"
      ],
      "execution_count": 26,
      "outputs": [
        {
          "output_type": "execute_result",
          "data": {
            "application/vnd.google.colaboratory.intrinsic+json": {
              "type": "string"
            },
            "text/plain": [
              "'Por fim, colete apenas este último item da lista.'"
            ]
          },
          "metadata": {
            "tags": []
          },
          "execution_count": 26
        }
      ]
    },
    {
      "cell_type": "code",
      "metadata": {
        "id": "lBtLmhbVHR0J"
      },
      "source": [
        ""
      ],
      "execution_count": null,
      "outputs": []
    }
  ]
}