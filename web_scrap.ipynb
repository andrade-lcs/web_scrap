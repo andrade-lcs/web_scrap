{
  "nbformat": 4,
  "nbformat_minor": 0,
  "metadata": {
    "colab": {
      "name": "web_scrap.ipynb",
      "provenance": [],
      "authorship_tag": "ABX9TyMQ4N7YDGdZwSdB38FJmff1"
    },
    "kernelspec": {
      "name": "python3",
      "display_name": "Python 3"
    }
  },
  "cells": [
    {
      "cell_type": "code",
      "metadata": {
        "id": "SstjGtPr7Izf"
      },
      "source": [
        "html = \"\"\"\r\n",
        "<html>\r\n",
        "    <head>\r\n",
        "        <title>Indicados e vencedores do Oscar em 2020</title>\r\n",
        "    </head>\r\n",
        "    <body>\r\n",
        "        <h1>Oscar 2020</h1>\r\n",
        "        <p>A maior premiação do cinema aconteceu em Fevereiro. Os destaques deste ano foram:</p>\r\n",
        "        <ul class=\"destaques\">\r\n",
        "            <li>Coringa</li>\r\n",
        "            <li>1917</li>\r\n",
        "            <li>Era Uma Vez em Hollywood</li>\r\n",
        "            <li>O Irlandês</li>\r\n",
        "        </ul>\r\n",
        "        <p>Veja abaixo os vencedores de 3 categorias.</p>\r\n",
        "        <div>\r\n",
        "            <div class=\"categoria-melhor-filme\">\r\n",
        "                <h2>Categoria: melhor filme</h2>\r\n",
        "                <ul>\r\n",
        "                    <li>Ford vs Ferrari</li>\r\n",
        "                    <li>O Irlandês</li>\r\n",
        "                    <li>JoJo Rabbit</li>\r\n",
        "                    <li>Coringa</li>\r\n",
        "                    <li>Adoráveis Mulheres</li>\r\n",
        "                    <li>História de um Casamento</li>\r\n",
        "                    <li>1917</li>\r\n",
        "                    <li>Era Uma Vez Em Hollywood</li>\r\n",
        "                    <li class=\"vencedor\">Parasita <strong>[VENCEDOR]</strong></li>\r\n",
        "                </ul>\r\n",
        "            </div>\r\n",
        "            <br>\r\n",
        "            <div class=\"categoria-melhor-ator\">\r\n",
        "                <h2>Categoria: melhor ator</h2>\r\n",
        "                <ul>\r\n",
        "                    <li>Antonio Banderas - Dor e Glória</li>\r\n",
        "                    <li>Leonardo DiCaprio - Era Uma Vez Em... Hollywood</li>\r\n",
        "                    <li>Adam Driver - História de um Casamento</li>\r\n",
        "                    <li class=\"vencedor\">Joaquin Phoenix - Coringa <strong>[VENCEDOR]</strong></li>\r\n",
        "                    <li>Jonathan Price - Dois Papas</li>\r\n",
        "                </ul>\r\n",
        "            </div>\r\n",
        "            <br>\r\n",
        "            <div class=\"categoria-melhor-atriz\">\r\n",
        "                <h2>Categoria: melhor atriz</h2>\r\n",
        "                <ul>\r\n",
        "                    <li>Cythia Erivo - Harriet</li>\r\n",
        "                    <li>Scarlett Johansson - História de um Casamento</li>\r\n",
        "                    <li>Saoirse Ronan - Adoráveis Mulheres</li>\r\n",
        "                    <li>Charlize Theron - O Escândalo</li>\r\n",
        "                    <li class=\"vencedor\">Renée Zellweger - Judy: Muito Além do Arco-Íris <strong>[VENCEDOR]</strong></li>\r\n",
        "                </ul>\r\n",
        "            </div>\r\n",
        "        </div>\r\n",
        "    </body>\r\n",
        "</html>\r\n",
        "\"\"\""
      ],
      "execution_count": 1,
      "outputs": []
    },
    {
      "cell_type": "code",
      "metadata": {
        "id": "sxFdqiFq5H7l"
      },
      "source": [
        "from bs4 import BeautifulSoup"
      ],
      "execution_count": 2,
      "outputs": []
    },
    {
      "cell_type": "code",
      "metadata": {
        "id": "GW1igfWg6-Yn"
      },
      "source": [
        "soup = BeautifulSoup(html, 'html.parser')"
      ],
      "execution_count": 3,
      "outputs": []
    },
    {
      "cell_type": "code",
      "metadata": {
        "colab": {
          "base_uri": "https://localhost:8080/"
        },
        "id": "NFiaqVCB7OHK",
        "outputId": "ec034d17-a4fe-4dcf-9819-3f9d774e9855"
      },
      "source": [
        "type(soup)"
      ],
      "execution_count": 4,
      "outputs": [
        {
          "output_type": "execute_result",
          "data": {
            "text/plain": [
              "bs4.BeautifulSoup"
            ]
          },
          "metadata": {
            "tags": []
          },
          "execution_count": 4
        }
      ]
    },
    {
      "cell_type": "code",
      "metadata": {
        "colab": {
          "base_uri": "https://localhost:8080/"
        },
        "id": "qtnK7Li67OsG",
        "outputId": "2ddb54f8-f830-4327-ee19-6996aed66c11"
      },
      "source": [
        "BeautifulSoup"
      ],
      "execution_count": 6,
      "outputs": [
        {
          "output_type": "execute_result",
          "data": {
            "text/plain": [
              "bs4.BeautifulSoup"
            ]
          },
          "metadata": {
            "tags": []
          },
          "execution_count": 6
        }
      ]
    },
    {
      "cell_type": "code",
      "metadata": {
        "colab": {
          "base_uri": "https://localhost:8080/"
        },
        "id": "WSSbOXvv7QOx",
        "outputId": "5c7ac9b5-5a90-4c94-c09d-f3967bfeb3e7"
      },
      "source": [
        "soup"
      ],
      "execution_count": 7,
      "outputs": [
        {
          "output_type": "execute_result",
          "data": {
            "text/plain": [
              "\n",
              "<html>\n",
              "<head>\n",
              "<title>Indicados e vencedores do Oscar em 2020</title>\n",
              "</head>\n",
              "<body>\n",
              "<h1>Oscar 2020</h1>\n",
              "<p>A maior premiação do cinema aconteceu em Fevereiro. Os destaques deste ano foram:</p>\n",
              "<ul class=\"destaques\">\n",
              "<li>Coringa</li>\n",
              "<li>1917</li>\n",
              "<li>Era Uma Vez em Hollywood</li>\n",
              "<li>O Irlandês</li>\n",
              "</ul>\n",
              "<p>Veja abaixo os vencedores de 3 categorias.</p>\n",
              "<div>\n",
              "<div class=\"categoria-melhor-filme\">\n",
              "<h2>Categoria: melhor filme</h2>\n",
              "<ul>\n",
              "<li>Ford vs Ferrari</li>\n",
              "<li>O Irlandês</li>\n",
              "<li>JoJo Rabbit</li>\n",
              "<li>Coringa</li>\n",
              "<li>Adoráveis Mulheres</li>\n",
              "<li>História de um Casamento</li>\n",
              "<li>1917</li>\n",
              "<li>Era Uma Vez Em Hollywood</li>\n",
              "<li class=\"vencedor\">Parasita <strong>[VENCEDOR]</strong></li>\n",
              "</ul>\n",
              "</div>\n",
              "<br/>\n",
              "<div class=\"categoria-melhor-ator\">\n",
              "<h2>Categoria: melhor ator</h2>\n",
              "<ul>\n",
              "<li>Antonio Banderas - Dor e Glória</li>\n",
              "<li>Leonardo DiCaprio - Era Uma Vez Em... Hollywood</li>\n",
              "<li>Adam Driver - História de um Casamento</li>\n",
              "<li class=\"vencedor\">Joaquin Phoenix - Coringa <strong>[VENCEDOR]</strong></li>\n",
              "<li>Jonathan Price - Dois Papas</li>\n",
              "</ul>\n",
              "</div>\n",
              "<br/>\n",
              "<div class=\"categoria-melhor-atriz\">\n",
              "<h2>Categoria: melhor atriz</h2>\n",
              "<ul>\n",
              "<li>Cythia Erivo - Harriet</li>\n",
              "<li>Scarlett Johansson - História de um Casamento</li>\n",
              "<li>Saoirse Ronan - Adoráveis Mulheres</li>\n",
              "<li>Charlize Theron - O Escândalo</li>\n",
              "<li class=\"vencedor\">Renée Zellweger - Judy: Muito Além do Arco-Íris <strong>[VENCEDOR]</strong></li>\n",
              "</ul>\n",
              "</div>\n",
              "</div>\n",
              "</body>\n",
              "</html>"
            ]
          },
          "metadata": {
            "tags": []
          },
          "execution_count": 7
        }
      ]
    },
    {
      "cell_type": "code",
      "metadata": {
        "colab": {
          "base_uri": "https://localhost:8080/"
        },
        "id": "3aKvfOft7jWW",
        "outputId": "6938dbf0-d080-4bf9-e0c4-74d98ad25ea2"
      },
      "source": [
        "print(soup.prettify())"
      ],
      "execution_count": 9,
      "outputs": [
        {
          "output_type": "stream",
          "text": [
            "<html>\n",
            " <head>\n",
            "  <title>\n",
            "   Indicados e vencedores do Oscar em 2020\n",
            "  </title>\n",
            " </head>\n",
            " <body>\n",
            "  <h1>\n",
            "   Oscar 2020\n",
            "  </h1>\n",
            "  <p>\n",
            "   A maior premiação do cinema aconteceu em Fevereiro. Os destaques deste ano foram:\n",
            "  </p>\n",
            "  <ul class=\"destaques\">\n",
            "   <li>\n",
            "    Coringa\n",
            "   </li>\n",
            "   <li>\n",
            "    1917\n",
            "   </li>\n",
            "   <li>\n",
            "    Era Uma Vez em Hollywood\n",
            "   </li>\n",
            "   <li>\n",
            "    O Irlandês\n",
            "   </li>\n",
            "  </ul>\n",
            "  <p>\n",
            "   Veja abaixo os vencedores de 3 categorias.\n",
            "  </p>\n",
            "  <div>\n",
            "   <div class=\"categoria-melhor-filme\">\n",
            "    <h2>\n",
            "     Categoria: melhor filme\n",
            "    </h2>\n",
            "    <ul>\n",
            "     <li>\n",
            "      Ford vs Ferrari\n",
            "     </li>\n",
            "     <li>\n",
            "      O Irlandês\n",
            "     </li>\n",
            "     <li>\n",
            "      JoJo Rabbit\n",
            "     </li>\n",
            "     <li>\n",
            "      Coringa\n",
            "     </li>\n",
            "     <li>\n",
            "      Adoráveis Mulheres\n",
            "     </li>\n",
            "     <li>\n",
            "      História de um Casamento\n",
            "     </li>\n",
            "     <li>\n",
            "      1917\n",
            "     </li>\n",
            "     <li>\n",
            "      Era Uma Vez Em Hollywood\n",
            "     </li>\n",
            "     <li class=\"vencedor\">\n",
            "      Parasita\n",
            "      <strong>\n",
            "       [VENCEDOR]\n",
            "      </strong>\n",
            "     </li>\n",
            "    </ul>\n",
            "   </div>\n",
            "   <br/>\n",
            "   <div class=\"categoria-melhor-ator\">\n",
            "    <h2>\n",
            "     Categoria: melhor ator\n",
            "    </h2>\n",
            "    <ul>\n",
            "     <li>\n",
            "      Antonio Banderas - Dor e Glória\n",
            "     </li>\n",
            "     <li>\n",
            "      Leonardo DiCaprio - Era Uma Vez Em... Hollywood\n",
            "     </li>\n",
            "     <li>\n",
            "      Adam Driver - História de um Casamento\n",
            "     </li>\n",
            "     <li class=\"vencedor\">\n",
            "      Joaquin Phoenix - Coringa\n",
            "      <strong>\n",
            "       [VENCEDOR]\n",
            "      </strong>\n",
            "     </li>\n",
            "     <li>\n",
            "      Jonathan Price - Dois Papas\n",
            "     </li>\n",
            "    </ul>\n",
            "   </div>\n",
            "   <br/>\n",
            "   <div class=\"categoria-melhor-atriz\">\n",
            "    <h2>\n",
            "     Categoria: melhor atriz\n",
            "    </h2>\n",
            "    <ul>\n",
            "     <li>\n",
            "      Cythia Erivo - Harriet\n",
            "     </li>\n",
            "     <li>\n",
            "      Scarlett Johansson - História de um Casamento\n",
            "     </li>\n",
            "     <li>\n",
            "      Saoirse Ronan - Adoráveis Mulheres\n",
            "     </li>\n",
            "     <li>\n",
            "      Charlize Theron - O Escândalo\n",
            "     </li>\n",
            "     <li class=\"vencedor\">\n",
            "      Renée Zellweger - Judy: Muito Além do Arco-Íris\n",
            "      <strong>\n",
            "       [VENCEDOR]\n",
            "      </strong>\n",
            "     </li>\n",
            "    </ul>\n",
            "   </div>\n",
            "  </div>\n",
            " </body>\n",
            "</html>\n",
            "\n"
          ],
          "name": "stdout"
        }
      ]
    },
    {
      "cell_type": "code",
      "metadata": {
        "id": "tDNZMUIG8LUr"
      },
      "source": [
        ""
      ],
      "execution_count": null,
      "outputs": []
    }
  ]
}