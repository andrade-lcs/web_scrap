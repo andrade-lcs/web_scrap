{
  "nbformat": 4,
  "nbformat_minor": 0,
  "metadata": {
    "colab": {
      "name": "web_scrap.ipynb",
      "provenance": [],
      "authorship_tag": "ABX9TyPXHOy6vsX2wJKq4mPPysJ4"
    },
    "kernelspec": {
      "name": "python3",
      "display_name": "Python 3"
    }
  },
  "cells": [
    {
      "cell_type": "code",
      "metadata": {
        "id": "SstjGtPr7Izf"
      },
      "source": [
        "html = \"\"\"\r\n",
        "<html>\r\n",
        "    <head>\r\n",
        "        <title>Indicados e vencedores do Oscar em 2020</title>\r\n",
        "    </head>\r\n",
        "    <body>\r\n",
        "        <h1>Oscar 2020</h1>\r\n",
        "        <p>A maior premiação do cinema aconteceu em Fevereiro. Os destaques deste ano foram:</p>\r\n",
        "        <ul class=\"destaques\">\r\n",
        "            <li>Coringa</li>\r\n",
        "            <li>1917</li>\r\n",
        "            <li>Era Uma Vez em Hollywood</li>\r\n",
        "            <li>O Irlandês</li>\r\n",
        "        </ul>\r\n",
        "        <p>Veja abaixo os vencedores de 3 categorias.</p>\r\n",
        "        <div>\r\n",
        "            <div class=\"categoria-melhor-filme\">\r\n",
        "                <h2>Categoria: melhor filme</h2>\r\n",
        "                <ul>\r\n",
        "                    <li>Ford vs Ferrari</li>\r\n",
        "                    <li>O Irlandês</li>\r\n",
        "                    <li>JoJo Rabbit</li>\r\n",
        "                    <li>Coringa</li>\r\n",
        "                    <li>Adoráveis Mulheres</li>\r\n",
        "                    <li>História de um Casamento</li>\r\n",
        "                    <li>1917</li>\r\n",
        "                    <li>Era Uma Vez Em Hollywood</li>\r\n",
        "                    <li class=\"vencedor\">Parasita <strong>[VENCEDOR]</strong></li>\r\n",
        "                </ul>\r\n",
        "            </div>\r\n",
        "            <br>\r\n",
        "            <div class=\"categoria-melhor-ator\">\r\n",
        "                <h2>Categoria: melhor ator</h2>\r\n",
        "                <ul>\r\n",
        "                    <li>Antonio Banderas - Dor e Glória</li>\r\n",
        "                    <li>Leonardo DiCaprio - Era Uma Vez Em... Hollywood</li>\r\n",
        "                    <li>Adam Driver - História de um Casamento</li>\r\n",
        "                    <li class=\"vencedor\">Joaquin Phoenix - Coringa <strong>[VENCEDOR]</strong></li>\r\n",
        "                    <li>Jonathan Price - Dois Papas</li>\r\n",
        "                </ul>\r\n",
        "            </div>\r\n",
        "            <br>\r\n",
        "            <div class=\"categoria-melhor-atriz\">\r\n",
        "                <h2>Categoria: melhor atriz</h2>\r\n",
        "                <ul>\r\n",
        "                    <li>Cythia Erivo - Harriet</li>\r\n",
        "                    <li>Scarlett Johansson - História de um Casamento</li>\r\n",
        "                    <li>Saoirse Ronan - Adoráveis Mulheres</li>\r\n",
        "                    <li>Charlize Theron - O Escândalo</li>\r\n",
        "                    <li class=\"vencedor\">Renée Zellweger - Judy: Muito Além do Arco-Íris <strong>[VENCEDOR]</strong></li>\r\n",
        "                </ul>\r\n",
        "            </div>\r\n",
        "        </div>\r\n",
        "    </body>\r\n",
        "</html>\r\n",
        "\"\"\""
      ],
      "execution_count": 1,
      "outputs": []
    },
    {
      "cell_type": "code",
      "metadata": {
        "id": "sxFdqiFq5H7l"
      },
      "source": [
        "from bs4 import BeautifulSoup"
      ],
      "execution_count": 2,
      "outputs": []
    },
    {
      "cell_type": "code",
      "metadata": {
        "id": "GW1igfWg6-Yn"
      },
      "source": [
        "soup = BeautifulSoup(html, 'html.parser')"
      ],
      "execution_count": 3,
      "outputs": []
    },
    {
      "cell_type": "code",
      "metadata": {
        "colab": {
          "base_uri": "https://localhost:8080/"
        },
        "id": "NFiaqVCB7OHK",
        "outputId": "ec034d17-a4fe-4dcf-9819-3f9d774e9855"
      },
      "source": [
        "type(soup)"
      ],
      "execution_count": 4,
      "outputs": [
        {
          "output_type": "execute_result",
          "data": {
            "text/plain": [
              "bs4.BeautifulSoup"
            ]
          },
          "metadata": {
            "tags": []
          },
          "execution_count": 4
        }
      ]
    },
    {
      "cell_type": "code",
      "metadata": {
        "colab": {
          "base_uri": "https://localhost:8080/"
        },
        "id": "qtnK7Li67OsG",
        "outputId": "2ddb54f8-f830-4327-ee19-6996aed66c11"
      },
      "source": [
        "BeautifulSoup"
      ],
      "execution_count": 6,
      "outputs": [
        {
          "output_type": "execute_result",
          "data": {
            "text/plain": [
              "bs4.BeautifulSoup"
            ]
          },
          "metadata": {
            "tags": []
          },
          "execution_count": 6
        }
      ]
    },
    {
      "cell_type": "code",
      "metadata": {
        "colab": {
          "base_uri": "https://localhost:8080/"
        },
        "id": "WSSbOXvv7QOx",
        "outputId": "5c7ac9b5-5a90-4c94-c09d-f3967bfeb3e7"
      },
      "source": [
        "soup"
      ],
      "execution_count": 7,
      "outputs": [
        {
          "output_type": "execute_result",
          "data": {
            "text/plain": [
              "\n",
              "<html>\n",
              "<head>\n",
              "<title>Indicados e vencedores do Oscar em 2020</title>\n",
              "</head>\n",
              "<body>\n",
              "<h1>Oscar 2020</h1>\n",
              "<p>A maior premiação do cinema aconteceu em Fevereiro. Os destaques deste ano foram:</p>\n",
              "<ul class=\"destaques\">\n",
              "<li>Coringa</li>\n",
              "<li>1917</li>\n",
              "<li>Era Uma Vez em Hollywood</li>\n",
              "<li>O Irlandês</li>\n",
              "</ul>\n",
              "<p>Veja abaixo os vencedores de 3 categorias.</p>\n",
              "<div>\n",
              "<div class=\"categoria-melhor-filme\">\n",
              "<h2>Categoria: melhor filme</h2>\n",
              "<ul>\n",
              "<li>Ford vs Ferrari</li>\n",
              "<li>O Irlandês</li>\n",
              "<li>JoJo Rabbit</li>\n",
              "<li>Coringa</li>\n",
              "<li>Adoráveis Mulheres</li>\n",
              "<li>História de um Casamento</li>\n",
              "<li>1917</li>\n",
              "<li>Era Uma Vez Em Hollywood</li>\n",
              "<li class=\"vencedor\">Parasita <strong>[VENCEDOR]</strong></li>\n",
              "</ul>\n",
              "</div>\n",
              "<br/>\n",
              "<div class=\"categoria-melhor-ator\">\n",
              "<h2>Categoria: melhor ator</h2>\n",
              "<ul>\n",
              "<li>Antonio Banderas - Dor e Glória</li>\n",
              "<li>Leonardo DiCaprio - Era Uma Vez Em... Hollywood</li>\n",
              "<li>Adam Driver - História de um Casamento</li>\n",
              "<li class=\"vencedor\">Joaquin Phoenix - Coringa <strong>[VENCEDOR]</strong></li>\n",
              "<li>Jonathan Price - Dois Papas</li>\n",
              "</ul>\n",
              "</div>\n",
              "<br/>\n",
              "<div class=\"categoria-melhor-atriz\">\n",
              "<h2>Categoria: melhor atriz</h2>\n",
              "<ul>\n",
              "<li>Cythia Erivo - Harriet</li>\n",
              "<li>Scarlett Johansson - História de um Casamento</li>\n",
              "<li>Saoirse Ronan - Adoráveis Mulheres</li>\n",
              "<li>Charlize Theron - O Escândalo</li>\n",
              "<li class=\"vencedor\">Renée Zellweger - Judy: Muito Além do Arco-Íris <strong>[VENCEDOR]</strong></li>\n",
              "</ul>\n",
              "</div>\n",
              "</div>\n",
              "</body>\n",
              "</html>"
            ]
          },
          "metadata": {
            "tags": []
          },
          "execution_count": 7
        }
      ]
    },
    {
      "cell_type": "code",
      "metadata": {
        "colab": {
          "base_uri": "https://localhost:8080/"
        },
        "id": "3aKvfOft7jWW",
        "outputId": "6938dbf0-d080-4bf9-e0c4-74d98ad25ea2"
      },
      "source": [
        "print(soup.prettify())"
      ],
      "execution_count": 9,
      "outputs": [
        {
          "output_type": "stream",
          "text": [
            "<html>\n",
            " <head>\n",
            "  <title>\n",
            "   Indicados e vencedores do Oscar em 2020\n",
            "  </title>\n",
            " </head>\n",
            " <body>\n",
            "  <h1>\n",
            "   Oscar 2020\n",
            "  </h1>\n",
            "  <p>\n",
            "   A maior premiação do cinema aconteceu em Fevereiro. Os destaques deste ano foram:\n",
            "  </p>\n",
            "  <ul class=\"destaques\">\n",
            "   <li>\n",
            "    Coringa\n",
            "   </li>\n",
            "   <li>\n",
            "    1917\n",
            "   </li>\n",
            "   <li>\n",
            "    Era Uma Vez em Hollywood\n",
            "   </li>\n",
            "   <li>\n",
            "    O Irlandês\n",
            "   </li>\n",
            "  </ul>\n",
            "  <p>\n",
            "   Veja abaixo os vencedores de 3 categorias.\n",
            "  </p>\n",
            "  <div>\n",
            "   <div class=\"categoria-melhor-filme\">\n",
            "    <h2>\n",
            "     Categoria: melhor filme\n",
            "    </h2>\n",
            "    <ul>\n",
            "     <li>\n",
            "      Ford vs Ferrari\n",
            "     </li>\n",
            "     <li>\n",
            "      O Irlandês\n",
            "     </li>\n",
            "     <li>\n",
            "      JoJo Rabbit\n",
            "     </li>\n",
            "     <li>\n",
            "      Coringa\n",
            "     </li>\n",
            "     <li>\n",
            "      Adoráveis Mulheres\n",
            "     </li>\n",
            "     <li>\n",
            "      História de um Casamento\n",
            "     </li>\n",
            "     <li>\n",
            "      1917\n",
            "     </li>\n",
            "     <li>\n",
            "      Era Uma Vez Em Hollywood\n",
            "     </li>\n",
            "     <li class=\"vencedor\">\n",
            "      Parasita\n",
            "      <strong>\n",
            "       [VENCEDOR]\n",
            "      </strong>\n",
            "     </li>\n",
            "    </ul>\n",
            "   </div>\n",
            "   <br/>\n",
            "   <div class=\"categoria-melhor-ator\">\n",
            "    <h2>\n",
            "     Categoria: melhor ator\n",
            "    </h2>\n",
            "    <ul>\n",
            "     <li>\n",
            "      Antonio Banderas - Dor e Glória\n",
            "     </li>\n",
            "     <li>\n",
            "      Leonardo DiCaprio - Era Uma Vez Em... Hollywood\n",
            "     </li>\n",
            "     <li>\n",
            "      Adam Driver - História de um Casamento\n",
            "     </li>\n",
            "     <li class=\"vencedor\">\n",
            "      Joaquin Phoenix - Coringa\n",
            "      <strong>\n",
            "       [VENCEDOR]\n",
            "      </strong>\n",
            "     </li>\n",
            "     <li>\n",
            "      Jonathan Price - Dois Papas\n",
            "     </li>\n",
            "    </ul>\n",
            "   </div>\n",
            "   <br/>\n",
            "   <div class=\"categoria-melhor-atriz\">\n",
            "    <h2>\n",
            "     Categoria: melhor atriz\n",
            "    </h2>\n",
            "    <ul>\n",
            "     <li>\n",
            "      Cythia Erivo - Harriet\n",
            "     </li>\n",
            "     <li>\n",
            "      Scarlett Johansson - História de um Casamento\n",
            "     </li>\n",
            "     <li>\n",
            "      Saoirse Ronan - Adoráveis Mulheres\n",
            "     </li>\n",
            "     <li>\n",
            "      Charlize Theron - O Escândalo\n",
            "     </li>\n",
            "     <li class=\"vencedor\">\n",
            "      Renée Zellweger - Judy: Muito Além do Arco-Íris\n",
            "      <strong>\n",
            "       [VENCEDOR]\n",
            "      </strong>\n",
            "     </li>\n",
            "    </ul>\n",
            "   </div>\n",
            "  </div>\n",
            " </body>\n",
            "</html>\n",
            "\n"
          ],
          "name": "stdout"
        }
      ]
    },
    {
      "cell_type": "code",
      "metadata": {
        "colab": {
          "base_uri": "https://localhost:8080/"
        },
        "id": "tDNZMUIG8LUr",
        "outputId": "88bfc9ee-8001-43da-ba8c-22a8d235a6e6"
      },
      "source": [
        "soup.html.head.title"
      ],
      "execution_count": 10,
      "outputs": [
        {
          "output_type": "execute_result",
          "data": {
            "text/plain": [
              "<title>Indicados e vencedores do Oscar em 2020</title>"
            ]
          },
          "metadata": {
            "tags": []
          },
          "execution_count": 10
        }
      ]
    },
    {
      "cell_type": "code",
      "metadata": {
        "colab": {
          "base_uri": "https://localhost:8080/"
        },
        "id": "QCcxG_Fs813d",
        "outputId": "328bee60-0e35-48e9-da3a-a3350674c23d"
      },
      "source": [
        "soup.title"
      ],
      "execution_count": 11,
      "outputs": [
        {
          "output_type": "execute_result",
          "data": {
            "text/plain": [
              "<title>Indicados e vencedores do Oscar em 2020</title>"
            ]
          },
          "metadata": {
            "tags": []
          },
          "execution_count": 11
        }
      ]
    },
    {
      "cell_type": "code",
      "metadata": {
        "colab": {
          "base_uri": "https://localhost:8080/",
          "height": 35
        },
        "id": "3LSOv07S83xB",
        "outputId": "1530a5de-7cee-4a3d-90ea-ebc91f859196"
      },
      "source": [
        "soup.title.get_text()"
      ],
      "execution_count": 12,
      "outputs": [
        {
          "output_type": "execute_result",
          "data": {
            "application/vnd.google.colaboratory.intrinsic+json": {
              "type": "string"
            },
            "text/plain": [
              "'Indicados e vencedores do Oscar em 2020'"
            ]
          },
          "metadata": {
            "tags": []
          },
          "execution_count": 12
        }
      ]
    },
    {
      "cell_type": "code",
      "metadata": {
        "colab": {
          "base_uri": "https://localhost:8080/"
        },
        "id": "IXUVU5tn85Ma",
        "outputId": "6504d178-59bb-4fa7-a96e-12d37ec05308"
      },
      "source": [
        "soup.html.body.h1"
      ],
      "execution_count": 13,
      "outputs": [
        {
          "output_type": "execute_result",
          "data": {
            "text/plain": [
              "<h1>Oscar 2020</h1>"
            ]
          },
          "metadata": {
            "tags": []
          },
          "execution_count": 13
        }
      ]
    },
    {
      "cell_type": "code",
      "metadata": {
        "colab": {
          "base_uri": "https://localhost:8080/"
        },
        "id": "Lp2jO3N29sGX",
        "outputId": "bb4d00d0-84c2-4411-c0a3-5eed9f4600a3"
      },
      "source": [
        "soup.h1"
      ],
      "execution_count": 14,
      "outputs": [
        {
          "output_type": "execute_result",
          "data": {
            "text/plain": [
              "<h1>Oscar 2020</h1>"
            ]
          },
          "metadata": {
            "tags": []
          },
          "execution_count": 14
        }
      ]
    },
    {
      "cell_type": "code",
      "metadata": {
        "colab": {
          "base_uri": "https://localhost:8080/",
          "height": 35
        },
        "id": "zL0g1daT9uOb",
        "outputId": "9b57cbe5-e77e-4f5f-97cd-452e5fe5917f"
      },
      "source": [
        "soup.h1.get_text()"
      ],
      "execution_count": 15,
      "outputs": [
        {
          "output_type": "execute_result",
          "data": {
            "application/vnd.google.colaboratory.intrinsic+json": {
              "type": "string"
            },
            "text/plain": [
              "'Oscar 2020'"
            ]
          },
          "metadata": {
            "tags": []
          },
          "execution_count": 15
        }
      ]
    },
    {
      "cell_type": "code",
      "metadata": {
        "colab": {
          "base_uri": "https://localhost:8080/",
          "height": 35
        },
        "id": "2cHol5Wn958O",
        "outputId": "5067659e-7d34-4dfc-eef8-2e2413e11add"
      },
      "source": [
        "soup.body.div.div.h2.get_text()"
      ],
      "execution_count": 16,
      "outputs": [
        {
          "output_type": "execute_result",
          "data": {
            "application/vnd.google.colaboratory.intrinsic+json": {
              "type": "string"
            },
            "text/plain": [
              "'Categoria: melhor filme'"
            ]
          },
          "metadata": {
            "tags": []
          },
          "execution_count": 16
        }
      ]
    },
    {
      "cell_type": "code",
      "metadata": {
        "colab": {
          "base_uri": "https://localhost:8080/",
          "height": 35
        },
        "id": "Lvu1Rz6w-OHI",
        "outputId": "3ef39495-1067-492b-b7b7-dbe298583c4d"
      },
      "source": [
        "soup.div.div.h2.get_text()"
      ],
      "execution_count": 17,
      "outputs": [
        {
          "output_type": "execute_result",
          "data": {
            "application/vnd.google.colaboratory.intrinsic+json": {
              "type": "string"
            },
            "text/plain": [
              "'Categoria: melhor filme'"
            ]
          },
          "metadata": {
            "tags": []
          },
          "execution_count": 17
        }
      ]
    },
    {
      "cell_type": "code",
      "metadata": {
        "colab": {
          "base_uri": "https://localhost:8080/",
          "height": 35
        },
        "id": "tjcbI8gJ-P5W",
        "outputId": "83d51ce6-9528-42b8-dd3a-3d2d1e96d93f"
      },
      "source": [
        "soup.h2.get_text()"
      ],
      "execution_count": 18,
      "outputs": [
        {
          "output_type": "execute_result",
          "data": {
            "application/vnd.google.colaboratory.intrinsic+json": {
              "type": "string"
            },
            "text/plain": [
              "'Categoria: melhor filme'"
            ]
          },
          "metadata": {
            "tags": []
          },
          "execution_count": 18
        }
      ]
    },
    {
      "cell_type": "code",
      "metadata": {
        "colab": {
          "base_uri": "https://localhost:8080/",
          "height": 35
        },
        "id": "IWYXiHN6-Sqh",
        "outputId": "a54425dd-6cd9-4b98-b7c3-6c375d15fd29"
      },
      "source": [
        "soup.div.ul.get_text()"
      ],
      "execution_count": 20,
      "outputs": [
        {
          "output_type": "execute_result",
          "data": {
            "application/vnd.google.colaboratory.intrinsic+json": {
              "type": "string"
            },
            "text/plain": [
              "'\\nFord vs Ferrari\\nO Irlandês\\nJoJo Rabbit\\nCoringa\\nAdoráveis Mulheres\\nHistória de um Casamento\\n1917\\nEra Uma Vez Em Hollywood\\nParasita [VENCEDOR]\\n'"
            ]
          },
          "metadata": {
            "tags": []
          },
          "execution_count": 20
        }
      ]
    },
    {
      "cell_type": "code",
      "metadata": {
        "colab": {
          "base_uri": "https://localhost:8080/",
          "height": 35
        },
        "id": "us0mwBVr-V5-",
        "outputId": "68462d72-c43c-45f8-a6a3-2adcb6c26f5e"
      },
      "source": [
        "soup.p.get_text()"
      ],
      "execution_count": 21,
      "outputs": [
        {
          "output_type": "execute_result",
          "data": {
            "application/vnd.google.colaboratory.intrinsic+json": {
              "type": "string"
            },
            "text/plain": [
              "'A maior premiação do cinema aconteceu em Fevereiro. Os destaques deste ano foram:'"
            ]
          },
          "metadata": {
            "tags": []
          },
          "execution_count": 21
        }
      ]
    },
    {
      "cell_type": "code",
      "metadata": {
        "colab": {
          "base_uri": "https://localhost:8080/"
        },
        "id": "Lx7jRh_t-_hn",
        "outputId": "f9937b67-326a-4190-9ce9-8662b839030e"
      },
      "source": [
        "soup.find(\"p\")"
      ],
      "execution_count": 22,
      "outputs": [
        {
          "output_type": "execute_result",
          "data": {
            "text/plain": [
              "<p>A maior premiação do cinema aconteceu em Fevereiro. Os destaques deste ano foram:</p>"
            ]
          },
          "metadata": {
            "tags": []
          },
          "execution_count": 22
        }
      ]
    },
    {
      "cell_type": "code",
      "metadata": {
        "colab": {
          "base_uri": "https://localhost:8080/",
          "height": 35
        },
        "id": "QA2PFWNh_V7d",
        "outputId": "cab142ca-7555-4d28-dbcb-772a463bba01"
      },
      "source": [
        "soup.find(\"p\").get_text()"
      ],
      "execution_count": 24,
      "outputs": [
        {
          "output_type": "execute_result",
          "data": {
            "application/vnd.google.colaboratory.intrinsic+json": {
              "type": "string"
            },
            "text/plain": [
              "'A maior premiação do cinema aconteceu em Fevereiro. Os destaques deste ano foram:'"
            ]
          },
          "metadata": {
            "tags": []
          },
          "execution_count": 24
        }
      ]
    },
    {
      "cell_type": "code",
      "metadata": {
        "colab": {
          "base_uri": "https://localhost:8080/"
        },
        "id": "pWr8X5v__PIF",
        "outputId": "4c048b40-f554-4674-d437-31df99fa1b75"
      },
      "source": [
        "soup.find_all(\"p\")"
      ],
      "execution_count": 23,
      "outputs": [
        {
          "output_type": "execute_result",
          "data": {
            "text/plain": [
              "[<p>A maior premiação do cinema aconteceu em Fevereiro. Os destaques deste ano foram:</p>,\n",
              " <p>Veja abaixo os vencedores de 3 categorias.</p>]"
            ]
          },
          "metadata": {
            "tags": []
          },
          "execution_count": 23
        }
      ]
    },
    {
      "cell_type": "code",
      "metadata": {
        "colab": {
          "base_uri": "https://localhost:8080/"
        },
        "id": "hjBONAHS_Tur",
        "outputId": "f389905d-fe18-4440-9785-7089ab857aa4"
      },
      "source": [
        "soup.find_all(\"p\")[1]"
      ],
      "execution_count": 25,
      "outputs": [
        {
          "output_type": "execute_result",
          "data": {
            "text/plain": [
              "<p>Veja abaixo os vencedores de 3 categorias.</p>"
            ]
          },
          "metadata": {
            "tags": []
          },
          "execution_count": 25
        }
      ]
    },
    {
      "cell_type": "code",
      "metadata": {
        "colab": {
          "base_uri": "https://localhost:8080/",
          "height": 35
        },
        "id": "3D-fu2gm_gSl",
        "outputId": "b807fa07-1968-4a68-c01d-92265259047d"
      },
      "source": [
        "soup.find_all(\"p\")[1].get_text()"
      ],
      "execution_count": 26,
      "outputs": [
        {
          "output_type": "execute_result",
          "data": {
            "application/vnd.google.colaboratory.intrinsic+json": {
              "type": "string"
            },
            "text/plain": [
              "'Veja abaixo os vencedores de 3 categorias.'"
            ]
          },
          "metadata": {
            "tags": []
          },
          "execution_count": 26
        }
      ]
    },
    {
      "cell_type": "code",
      "metadata": {
        "colab": {
          "base_uri": "https://localhost:8080/"
        },
        "id": "4YPcSuiL_kKx",
        "outputId": "dff0c5b8-26c0-4f9f-a551-f523227ae318"
      },
      "source": [
        "soup.find_all(\"h2\")"
      ],
      "execution_count": 27,
      "outputs": [
        {
          "output_type": "execute_result",
          "data": {
            "text/plain": [
              "[<h2>Categoria: melhor filme</h2>,\n",
              " <h2>Categoria: melhor ator</h2>,\n",
              " <h2>Categoria: melhor atriz</h2>]"
            ]
          },
          "metadata": {
            "tags": []
          },
          "execution_count": 27
        }
      ]
    },
    {
      "cell_type": "code",
      "metadata": {
        "colab": {
          "base_uri": "https://localhost:8080/"
        },
        "id": "AuzNSC3k_u3t",
        "outputId": "b0d84b25-855b-4ffb-87aa-a5dc04a80ba3"
      },
      "source": [
        "soup.ul.find_all(\"li\")"
      ],
      "execution_count": 28,
      "outputs": [
        {
          "output_type": "execute_result",
          "data": {
            "text/plain": [
              "[<li>Coringa</li>,\n",
              " <li>1917</li>,\n",
              " <li>Era Uma Vez em Hollywood</li>,\n",
              " <li>O Irlandês</li>]"
            ]
          },
          "metadata": {
            "tags": []
          },
          "execution_count": 28
        }
      ]
    },
    {
      "cell_type": "code",
      "metadata": {
        "colab": {
          "base_uri": "https://localhost:8080/"
        },
        "id": "NK8mhpCaAu6u",
        "outputId": "0d3193ad-eb97-4c3d-dbb6-61ee2a899239"
      },
      "source": [
        "print(\"Lista de destaques:\\n\")\r\n",
        "\r\n",
        "for filme in soup.ul.find_all(\"li\"):\r\n",
        "    print(filme.get_text())"
      ],
      "execution_count": 30,
      "outputs": [
        {
          "output_type": "stream",
          "text": [
            "Lista de destaques:\n",
            "\n",
            "Coringa\n",
            "1917\n",
            "Era Uma Vez em Hollywood\n",
            "O Irlandês\n"
          ],
          "name": "stdout"
        }
      ]
    },
    {
      "cell_type": "code",
      "metadata": {
        "colab": {
          "base_uri": "https://localhost:8080/"
        },
        "id": "bYkjDxosA1mu",
        "outputId": "7a73a919-079f-4935-ce67-d40f883b4074"
      },
      "source": [
        "soup.div.div.ul.find_all('li')"
      ],
      "execution_count": 53,
      "outputs": [
        {
          "output_type": "execute_result",
          "data": {
            "text/plain": [
              "[<li>Ford vs Ferrari</li>,\n",
              " <li>O Irlandês</li>,\n",
              " <li>JoJo Rabbit</li>,\n",
              " <li>Coringa</li>,\n",
              " <li>Adoráveis Mulheres</li>,\n",
              " <li>História de um Casamento</li>,\n",
              " <li>1917</li>,\n",
              " <li>Era Uma Vez Em Hollywood</li>,\n",
              " <li class=\"vencedor\">Parasita <strong>[VENCEDOR]</strong></li>]"
            ]
          },
          "metadata": {
            "tags": []
          },
          "execution_count": 53
        }
      ]
    },
    {
      "cell_type": "code",
      "metadata": {
        "colab": {
          "base_uri": "https://localhost:8080/"
        },
        "id": "yPFj1qZ_BKlH",
        "outputId": "077c0efc-f3f2-4831-fe1d-04da9fb762ba"
      },
      "source": [
        "soup.find_all('p', limit = 1)"
      ],
      "execution_count": 54,
      "outputs": [
        {
          "output_type": "execute_result",
          "data": {
            "text/plain": [
              "[<p>A maior premiação do cinema aconteceu em Fevereiro. Os destaques deste ano foram:</p>]"
            ]
          },
          "metadata": {
            "tags": []
          },
          "execution_count": 54
        }
      ]
    },
    {
      "cell_type": "code",
      "metadata": {
        "colab": {
          "base_uri": "https://localhost:8080/"
        },
        "id": "7nhyXmynGL6r",
        "outputId": "6f620c7b-e372-4e8b-82e1-cfa8e3d8100b"
      },
      "source": [
        "soup.find_all('p')[0]"
      ],
      "execution_count": 55,
      "outputs": [
        {
          "output_type": "execute_result",
          "data": {
            "text/plain": [
              "<p>A maior premiação do cinema aconteceu em Fevereiro. Os destaques deste ano foram:</p>"
            ]
          },
          "metadata": {
            "tags": []
          },
          "execution_count": 55
        }
      ]
    },
    {
      "cell_type": "code",
      "metadata": {
        "colab": {
          "base_uri": "https://localhost:8080/"
        },
        "id": "9l4x0ODXGPO3",
        "outputId": "04321018-114d-40ca-9e6f-2e2128e8b8cb"
      },
      "source": [
        "soup.find_all([\"h2\", \"li\"])"
      ],
      "execution_count": 56,
      "outputs": [
        {
          "output_type": "execute_result",
          "data": {
            "text/plain": [
              "[<li>Coringa</li>,\n",
              " <li>1917</li>,\n",
              " <li>Era Uma Vez em Hollywood</li>,\n",
              " <li>O Irlandês</li>,\n",
              " <h2>Categoria: melhor filme</h2>,\n",
              " <li>Ford vs Ferrari</li>,\n",
              " <li>O Irlandês</li>,\n",
              " <li>JoJo Rabbit</li>,\n",
              " <li>Coringa</li>,\n",
              " <li>Adoráveis Mulheres</li>,\n",
              " <li>História de um Casamento</li>,\n",
              " <li>1917</li>,\n",
              " <li>Era Uma Vez Em Hollywood</li>,\n",
              " <li class=\"vencedor\">Parasita <strong>[VENCEDOR]</strong></li>,\n",
              " <h2>Categoria: melhor ator</h2>,\n",
              " <li>Antonio Banderas - Dor e Glória</li>,\n",
              " <li>Leonardo DiCaprio - Era Uma Vez Em... Hollywood</li>,\n",
              " <li>Adam Driver - História de um Casamento</li>,\n",
              " <li class=\"vencedor\">Joaquin Phoenix - Coringa <strong>[VENCEDOR]</strong></li>,\n",
              " <li>Jonathan Price - Dois Papas</li>,\n",
              " <h2>Categoria: melhor atriz</h2>,\n",
              " <li>Cythia Erivo - Harriet</li>,\n",
              " <li>Scarlett Johansson - História de um Casamento</li>,\n",
              " <li>Saoirse Ronan - Adoráveis Mulheres</li>,\n",
              " <li>Charlize Theron - O Escândalo</li>,\n",
              " <li class=\"vencedor\">Renée Zellweger - Judy: Muito Além do Arco-Íris <strong>[VENCEDOR]</strong></li>]"
            ]
          },
          "metadata": {
            "tags": []
          },
          "execution_count": 56
        }
      ]
    },
    {
      "cell_type": "code",
      "metadata": {
        "colab": {
          "base_uri": "https://localhost:8080/"
        },
        "id": "UhpeMPsSGVUH",
        "outputId": "0ca93c26-1673-4609-a018-b01250aacb09"
      },
      "source": [
        "soup.find_all(\"li\", text=\"Coringa\")"
      ],
      "execution_count": 57,
      "outputs": [
        {
          "output_type": "execute_result",
          "data": {
            "text/plain": [
              "[<li>Coringa</li>, <li>Coringa</li>]"
            ]
          },
          "metadata": {
            "tags": []
          },
          "execution_count": 57
        }
      ]
    },
    {
      "cell_type": "code",
      "metadata": {
        "colab": {
          "base_uri": "https://localhost:8080/"
        },
        "id": "K_Z8Np28G2Oz",
        "outputId": "acb796b8-a071-440d-f66b-e5f7187901ae"
      },
      "source": [
        "soup.find_all(\"li\", text=\"1917\")"
      ],
      "execution_count": 58,
      "outputs": [
        {
          "output_type": "execute_result",
          "data": {
            "text/plain": [
              "[<li>1917</li>, <li>1917</li>]"
            ]
          },
          "metadata": {
            "tags": []
          },
          "execution_count": 58
        }
      ]
    },
    {
      "cell_type": "code",
      "metadata": {
        "colab": {
          "base_uri": "https://localhost:8080/"
        },
        "id": "6PiOxSZ2G39q",
        "outputId": "b7544dde-5f91-4a54-9d33-e3122f8e0709"
      },
      "source": [
        "soup.find_all(\"li\", text=\"O Irlandês\")"
      ],
      "execution_count": 59,
      "outputs": [
        {
          "output_type": "execute_result",
          "data": {
            "text/plain": [
              "[<li>O Irlandês</li>, <li>O Irlandês</li>]"
            ]
          },
          "metadata": {
            "tags": []
          },
          "execution_count": 59
        }
      ]
    },
    {
      "cell_type": "code",
      "metadata": {
        "colab": {
          "base_uri": "https://localhost:8080/"
        },
        "id": "d5ZxhqzeG5jv",
        "outputId": "1123bdf2-7afd-41b3-9ec0-bda347630971"
      },
      "source": [
        "import re\r\n",
        "soup.find_all(\"h2\", text=re.compile(\"^Categoria\"))"
      ],
      "execution_count": 61,
      "outputs": [
        {
          "output_type": "execute_result",
          "data": {
            "text/plain": [
              "[<h2>Categoria: melhor filme</h2>,\n",
              " <h2>Categoria: melhor ator</h2>,\n",
              " <h2>Categoria: melhor atriz</h2>]"
            ]
          },
          "metadata": {
            "tags": []
          },
          "execution_count": 61
        }
      ]
    },
    {
      "cell_type": "code",
      "metadata": {
        "colab": {
          "base_uri": "https://localhost:8080/"
        },
        "id": "RjiBDQ5XHzUJ",
        "outputId": "eb4c2f40-7115-48fc-88f3-5b19a7e732dd"
      },
      "source": [
        "soup.find_all(\"ul\", {\"class\": \"destaques\"})"
      ],
      "execution_count": 62,
      "outputs": [
        {
          "output_type": "execute_result",
          "data": {
            "text/plain": [
              "[<ul class=\"destaques\">\n",
              " <li>Coringa</li>\n",
              " <li>1917</li>\n",
              " <li>Era Uma Vez em Hollywood</li>\n",
              " <li>O Irlandês</li>\n",
              " </ul>]"
            ]
          },
          "metadata": {
            "tags": []
          },
          "execution_count": 62
        }
      ]
    },
    {
      "cell_type": "code",
      "metadata": {
        "colab": {
          "base_uri": "https://localhost:8080/"
        },
        "id": "UJ9XAu17H7uz",
        "outputId": "7c770479-bc58-4079-de87-e3375af2b7a3"
      },
      "source": [
        "for item in soup.find_all(\"ul\", {\"class\": \"destaques\"}):\r\n",
        "    print(item.get_text())"
      ],
      "execution_count": 63,
      "outputs": [
        {
          "output_type": "stream",
          "text": [
            "\n",
            "Coringa\n",
            "1917\n",
            "Era Uma Vez em Hollywood\n",
            "O Irlandês\n",
            "\n"
          ],
          "name": "stdout"
        }
      ]
    },
    {
      "cell_type": "code",
      "metadata": {
        "colab": {
          "base_uri": "https://localhost:8080/"
        },
        "id": "EH9S9VO_H_uG",
        "outputId": "1526bef0-8305-4ed9-a09c-fc2bca96d126"
      },
      "source": [
        "soup.find_all(\"li\", {\"class\": \"vencedor\"})"
      ],
      "execution_count": 66,
      "outputs": [
        {
          "output_type": "execute_result",
          "data": {
            "text/plain": [
              "[<li class=\"vencedor\">Parasita <strong>[VENCEDOR]</strong></li>,\n",
              " <li class=\"vencedor\">Joaquin Phoenix - Coringa <strong>[VENCEDOR]</strong></li>,\n",
              " <li class=\"vencedor\">Renée Zellweger - Judy: Muito Além do Arco-Íris <strong>[VENCEDOR]</strong></li>]"
            ]
          },
          "metadata": {
            "tags": []
          },
          "execution_count": 66
        }
      ]
    },
    {
      "cell_type": "code",
      "metadata": {
        "colab": {
          "base_uri": "https://localhost:8080/"
        },
        "id": "6F3iJWUvIEYC",
        "outputId": "e50a175b-b610-4a27-a3c2-cf359ae45da4"
      },
      "source": [
        "for item in soup.find_all(\"li\", {\"class\": \"vencedor\"}):\r\n",
        "    print(item.get_text())"
      ],
      "execution_count": 67,
      "outputs": [
        {
          "output_type": "stream",
          "text": [
            "Parasita [VENCEDOR]\n",
            "Joaquin Phoenix - Coringa [VENCEDOR]\n",
            "Renée Zellweger - Judy: Muito Além do Arco-Íris [VENCEDOR]\n"
          ],
          "name": "stdout"
        }
      ]
    },
    {
      "cell_type": "code",
      "metadata": {
        "colab": {
          "base_uri": "https://localhost:8080/"
        },
        "id": "_7hMGNA_IMDo",
        "outputId": "451558f2-aa37-4730-e40f-baafcf539412"
      },
      "source": [
        "for item in soup.find_all(\"li\", {\"class\": \"vencedor\"}):\r\n",
        "    print(item.get_text().replace(\" [VENCEDOR]\", \"\"))"
      ],
      "execution_count": 68,
      "outputs": [
        {
          "output_type": "stream",
          "text": [
            "Parasita\n",
            "Joaquin Phoenix - Coringa\n",
            "Renée Zellweger - Judy: Muito Além do Arco-Íris\n"
          ],
          "name": "stdout"
        }
      ]
    },
    {
      "cell_type": "code",
      "metadata": {
        "id": "qM_dJ4NWIR6v"
      },
      "source": [
        ""
      ],
      "execution_count": null,
      "outputs": []
    }
  ]
}